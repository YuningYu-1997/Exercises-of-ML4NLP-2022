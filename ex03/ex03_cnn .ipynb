{
  "nbformat": 4,
  "nbformat_minor": 0,
  "metadata": {
    "colab": {
      "provenance": [],
      "collapsed_sections": []
    },
    "kernelspec": {
      "name": "python3",
      "display_name": "Python 3"
    },
    "language_info": {
      "name": "python"
    },
    "widgets": {
      "application/vnd.jupyter.widget-state+json": {
        "c618b9788c8441bf84e3327d6fb89aa4": {
          "model_module": "@jupyter-widgets/controls",
          "model_name": "HBoxModel",
          "model_module_version": "1.5.0",
          "state": {
            "_dom_classes": [],
            "_model_module": "@jupyter-widgets/controls",
            "_model_module_version": "1.5.0",
            "_model_name": "HBoxModel",
            "_view_count": null,
            "_view_module": "@jupyter-widgets/controls",
            "_view_module_version": "1.5.0",
            "_view_name": "HBoxView",
            "box_style": "",
            "children": [
              "IPY_MODEL_33fa038248114c0882c12d223c1c7510",
              "IPY_MODEL_6cd29edc1da94c3baf9ae4f66f7eb1fd",
              "IPY_MODEL_ce738eec53454f02bd2f0ce284925e45"
            ],
            "layout": "IPY_MODEL_fcf6644defed4a63ba3fc49667e8c534"
          }
        },
        "33fa038248114c0882c12d223c1c7510": {
          "model_module": "@jupyter-widgets/controls",
          "model_name": "HTMLModel",
          "model_module_version": "1.5.0",
          "state": {
            "_dom_classes": [],
            "_model_module": "@jupyter-widgets/controls",
            "_model_module_version": "1.5.0",
            "_model_name": "HTMLModel",
            "_view_count": null,
            "_view_module": "@jupyter-widgets/controls",
            "_view_module_version": "1.5.0",
            "_view_name": "HTMLView",
            "description": "",
            "description_tooltip": null,
            "layout": "IPY_MODEL_100a0f2754e249a49d915e17aa526fa1",
            "placeholder": "​",
            "style": "IPY_MODEL_7b0583a8e94549a9a2e6399e62058190",
            "value": ""
          }
        },
        "6cd29edc1da94c3baf9ae4f66f7eb1fd": {
          "model_module": "@jupyter-widgets/controls",
          "model_name": "FloatProgressModel",
          "model_module_version": "1.5.0",
          "state": {
            "_dom_classes": [],
            "_model_module": "@jupyter-widgets/controls",
            "_model_module_version": "1.5.0",
            "_model_name": "FloatProgressModel",
            "_view_count": null,
            "_view_module": "@jupyter-widgets/controls",
            "_view_module_version": "1.5.0",
            "_view_name": "ProgressView",
            "bar_style": "success",
            "description": "",
            "description_tooltip": null,
            "layout": "IPY_MODEL_552f1eca9815416080a9fa8094fb9de8",
            "max": 1,
            "min": 0,
            "orientation": "horizontal",
            "style": "IPY_MODEL_548a657c1b1b4430b6acf90c1917ac40",
            "value": 1
          }
        },
        "ce738eec53454f02bd2f0ce284925e45": {
          "model_module": "@jupyter-widgets/controls",
          "model_name": "HTMLModel",
          "model_module_version": "1.5.0",
          "state": {
            "_dom_classes": [],
            "_model_module": "@jupyter-widgets/controls",
            "_model_module_version": "1.5.0",
            "_model_name": "HTMLModel",
            "_view_count": null,
            "_view_module": "@jupyter-widgets/controls",
            "_view_module_version": "1.5.0",
            "_view_name": "HTMLView",
            "description": "",
            "description_tooltip": null,
            "layout": "IPY_MODEL_771fba740359470d85e0efdebb0260e5",
            "placeholder": "​",
            "style": "IPY_MODEL_c669509c59a74abb999d796d1699948f",
            "value": " 1999995/? [01:17&lt;00:00, 36173.56it/s]"
          }
        },
        "fcf6644defed4a63ba3fc49667e8c534": {
          "model_module": "@jupyter-widgets/base",
          "model_name": "LayoutModel",
          "model_module_version": "1.2.0",
          "state": {
            "_model_module": "@jupyter-widgets/base",
            "_model_module_version": "1.2.0",
            "_model_name": "LayoutModel",
            "_view_count": null,
            "_view_module": "@jupyter-widgets/base",
            "_view_module_version": "1.2.0",
            "_view_name": "LayoutView",
            "align_content": null,
            "align_items": null,
            "align_self": null,
            "border": null,
            "bottom": null,
            "display": null,
            "flex": null,
            "flex_flow": null,
            "grid_area": null,
            "grid_auto_columns": null,
            "grid_auto_flow": null,
            "grid_auto_rows": null,
            "grid_column": null,
            "grid_gap": null,
            "grid_row": null,
            "grid_template_areas": null,
            "grid_template_columns": null,
            "grid_template_rows": null,
            "height": null,
            "justify_content": null,
            "justify_items": null,
            "left": null,
            "margin": null,
            "max_height": null,
            "max_width": null,
            "min_height": null,
            "min_width": null,
            "object_fit": null,
            "object_position": null,
            "order": null,
            "overflow": null,
            "overflow_x": null,
            "overflow_y": null,
            "padding": null,
            "right": null,
            "top": null,
            "visibility": null,
            "width": null
          }
        },
        "100a0f2754e249a49d915e17aa526fa1": {
          "model_module": "@jupyter-widgets/base",
          "model_name": "LayoutModel",
          "model_module_version": "1.2.0",
          "state": {
            "_model_module": "@jupyter-widgets/base",
            "_model_module_version": "1.2.0",
            "_model_name": "LayoutModel",
            "_view_count": null,
            "_view_module": "@jupyter-widgets/base",
            "_view_module_version": "1.2.0",
            "_view_name": "LayoutView",
            "align_content": null,
            "align_items": null,
            "align_self": null,
            "border": null,
            "bottom": null,
            "display": null,
            "flex": null,
            "flex_flow": null,
            "grid_area": null,
            "grid_auto_columns": null,
            "grid_auto_flow": null,
            "grid_auto_rows": null,
            "grid_column": null,
            "grid_gap": null,
            "grid_row": null,
            "grid_template_areas": null,
            "grid_template_columns": null,
            "grid_template_rows": null,
            "height": null,
            "justify_content": null,
            "justify_items": null,
            "left": null,
            "margin": null,
            "max_height": null,
            "max_width": null,
            "min_height": null,
            "min_width": null,
            "object_fit": null,
            "object_position": null,
            "order": null,
            "overflow": null,
            "overflow_x": null,
            "overflow_y": null,
            "padding": null,
            "right": null,
            "top": null,
            "visibility": null,
            "width": null
          }
        },
        "7b0583a8e94549a9a2e6399e62058190": {
          "model_module": "@jupyter-widgets/controls",
          "model_name": "DescriptionStyleModel",
          "model_module_version": "1.5.0",
          "state": {
            "_model_module": "@jupyter-widgets/controls",
            "_model_module_version": "1.5.0",
            "_model_name": "DescriptionStyleModel",
            "_view_count": null,
            "_view_module": "@jupyter-widgets/base",
            "_view_module_version": "1.2.0",
            "_view_name": "StyleView",
            "description_width": ""
          }
        },
        "552f1eca9815416080a9fa8094fb9de8": {
          "model_module": "@jupyter-widgets/base",
          "model_name": "LayoutModel",
          "model_module_version": "1.2.0",
          "state": {
            "_model_module": "@jupyter-widgets/base",
            "_model_module_version": "1.2.0",
            "_model_name": "LayoutModel",
            "_view_count": null,
            "_view_module": "@jupyter-widgets/base",
            "_view_module_version": "1.2.0",
            "_view_name": "LayoutView",
            "align_content": null,
            "align_items": null,
            "align_self": null,
            "border": null,
            "bottom": null,
            "display": null,
            "flex": null,
            "flex_flow": null,
            "grid_area": null,
            "grid_auto_columns": null,
            "grid_auto_flow": null,
            "grid_auto_rows": null,
            "grid_column": null,
            "grid_gap": null,
            "grid_row": null,
            "grid_template_areas": null,
            "grid_template_columns": null,
            "grid_template_rows": null,
            "height": null,
            "justify_content": null,
            "justify_items": null,
            "left": null,
            "margin": null,
            "max_height": null,
            "max_width": null,
            "min_height": null,
            "min_width": null,
            "object_fit": null,
            "object_position": null,
            "order": null,
            "overflow": null,
            "overflow_x": null,
            "overflow_y": null,
            "padding": null,
            "right": null,
            "top": null,
            "visibility": null,
            "width": "20px"
          }
        },
        "548a657c1b1b4430b6acf90c1917ac40": {
          "model_module": "@jupyter-widgets/controls",
          "model_name": "ProgressStyleModel",
          "model_module_version": "1.5.0",
          "state": {
            "_model_module": "@jupyter-widgets/controls",
            "_model_module_version": "1.5.0",
            "_model_name": "ProgressStyleModel",
            "_view_count": null,
            "_view_module": "@jupyter-widgets/base",
            "_view_module_version": "1.2.0",
            "_view_name": "StyleView",
            "bar_color": null,
            "description_width": ""
          }
        },
        "771fba740359470d85e0efdebb0260e5": {
          "model_module": "@jupyter-widgets/base",
          "model_name": "LayoutModel",
          "model_module_version": "1.2.0",
          "state": {
            "_model_module": "@jupyter-widgets/base",
            "_model_module_version": "1.2.0",
            "_model_name": "LayoutModel",
            "_view_count": null,
            "_view_module": "@jupyter-widgets/base",
            "_view_module_version": "1.2.0",
            "_view_name": "LayoutView",
            "align_content": null,
            "align_items": null,
            "align_self": null,
            "border": null,
            "bottom": null,
            "display": null,
            "flex": null,
            "flex_flow": null,
            "grid_area": null,
            "grid_auto_columns": null,
            "grid_auto_flow": null,
            "grid_auto_rows": null,
            "grid_column": null,
            "grid_gap": null,
            "grid_row": null,
            "grid_template_areas": null,
            "grid_template_columns": null,
            "grid_template_rows": null,
            "height": null,
            "justify_content": null,
            "justify_items": null,
            "left": null,
            "margin": null,
            "max_height": null,
            "max_width": null,
            "min_height": null,
            "min_width": null,
            "object_fit": null,
            "object_position": null,
            "order": null,
            "overflow": null,
            "overflow_x": null,
            "overflow_y": null,
            "padding": null,
            "right": null,
            "top": null,
            "visibility": null,
            "width": null
          }
        },
        "c669509c59a74abb999d796d1699948f": {
          "model_module": "@jupyter-widgets/controls",
          "model_name": "DescriptionStyleModel",
          "model_module_version": "1.5.0",
          "state": {
            "_model_module": "@jupyter-widgets/controls",
            "_model_module_version": "1.5.0",
            "_model_name": "DescriptionStyleModel",
            "_view_count": null,
            "_view_module": "@jupyter-widgets/base",
            "_view_module_version": "1.2.0",
            "_view_name": "StyleView",
            "description_width": ""
          }
        },
        "bfe5b1e46a7d45e7a61a29e63e6fd214": {
          "model_module": "@jupyter-widgets/controls",
          "model_name": "HBoxModel",
          "model_module_version": "1.5.0",
          "state": {
            "_dom_classes": [],
            "_model_module": "@jupyter-widgets/controls",
            "_model_module_version": "1.5.0",
            "_model_name": "HBoxModel",
            "_view_count": null,
            "_view_module": "@jupyter-widgets/controls",
            "_view_module_version": "1.5.0",
            "_view_name": "HBoxView",
            "box_style": "",
            "children": [
              "IPY_MODEL_526b1807cc9c4c92b4e2b729b96f25e3",
              "IPY_MODEL_a2318e2aaa72428f9172de45ece2d693",
              "IPY_MODEL_75fb4d0200e04a62a476be0194bf3984"
            ],
            "layout": "IPY_MODEL_f20d6e46ccfe47898bcbe746b76621af"
          }
        },
        "526b1807cc9c4c92b4e2b729b96f25e3": {
          "model_module": "@jupyter-widgets/controls",
          "model_name": "HTMLModel",
          "model_module_version": "1.5.0",
          "state": {
            "_dom_classes": [],
            "_model_module": "@jupyter-widgets/controls",
            "_model_module_version": "1.5.0",
            "_model_name": "HTMLModel",
            "_view_count": null,
            "_view_module": "@jupyter-widgets/controls",
            "_view_module_version": "1.5.0",
            "_view_name": "HTMLView",
            "description": "",
            "description_tooltip": null,
            "layout": "IPY_MODEL_1bc073a53fda497287add6942fe44d68",
            "placeholder": "​",
            "style": "IPY_MODEL_1255cb42c5e14fe9b24f76f51c3654a3",
            "value": ""
          }
        },
        "a2318e2aaa72428f9172de45ece2d693": {
          "model_module": "@jupyter-widgets/controls",
          "model_name": "FloatProgressModel",
          "model_module_version": "1.5.0",
          "state": {
            "_dom_classes": [],
            "_model_module": "@jupyter-widgets/controls",
            "_model_module_version": "1.5.0",
            "_model_name": "FloatProgressModel",
            "_view_count": null,
            "_view_module": "@jupyter-widgets/controls",
            "_view_module_version": "1.5.0",
            "_view_name": "ProgressView",
            "bar_style": "success",
            "description": "",
            "description_tooltip": null,
            "layout": "IPY_MODEL_49c34570a6774521a15000910a434cff",
            "max": 1,
            "min": 0,
            "orientation": "horizontal",
            "style": "IPY_MODEL_c34f00bc800f45f4b63224995d980274",
            "value": 1
          }
        },
        "75fb4d0200e04a62a476be0194bf3984": {
          "model_module": "@jupyter-widgets/controls",
          "model_name": "HTMLModel",
          "model_module_version": "1.5.0",
          "state": {
            "_dom_classes": [],
            "_model_module": "@jupyter-widgets/controls",
            "_model_module_version": "1.5.0",
            "_model_name": "HTMLModel",
            "_view_count": null,
            "_view_module": "@jupyter-widgets/controls",
            "_view_module_version": "1.5.0",
            "_view_name": "HTMLView",
            "description": "",
            "description_tooltip": null,
            "layout": "IPY_MODEL_19d630180a7949b29ce246bfd465d3ef",
            "placeholder": "​",
            "style": "IPY_MODEL_619a39da2c5b4d51b2494c349f30ab14",
            "value": " 1999995/? [00:41&lt;00:00, 50190.43it/s]"
          }
        },
        "f20d6e46ccfe47898bcbe746b76621af": {
          "model_module": "@jupyter-widgets/base",
          "model_name": "LayoutModel",
          "model_module_version": "1.2.0",
          "state": {
            "_model_module": "@jupyter-widgets/base",
            "_model_module_version": "1.2.0",
            "_model_name": "LayoutModel",
            "_view_count": null,
            "_view_module": "@jupyter-widgets/base",
            "_view_module_version": "1.2.0",
            "_view_name": "LayoutView",
            "align_content": null,
            "align_items": null,
            "align_self": null,
            "border": null,
            "bottom": null,
            "display": null,
            "flex": null,
            "flex_flow": null,
            "grid_area": null,
            "grid_auto_columns": null,
            "grid_auto_flow": null,
            "grid_auto_rows": null,
            "grid_column": null,
            "grid_gap": null,
            "grid_row": null,
            "grid_template_areas": null,
            "grid_template_columns": null,
            "grid_template_rows": null,
            "height": null,
            "justify_content": null,
            "justify_items": null,
            "left": null,
            "margin": null,
            "max_height": null,
            "max_width": null,
            "min_height": null,
            "min_width": null,
            "object_fit": null,
            "object_position": null,
            "order": null,
            "overflow": null,
            "overflow_x": null,
            "overflow_y": null,
            "padding": null,
            "right": null,
            "top": null,
            "visibility": null,
            "width": null
          }
        },
        "1bc073a53fda497287add6942fe44d68": {
          "model_module": "@jupyter-widgets/base",
          "model_name": "LayoutModel",
          "model_module_version": "1.2.0",
          "state": {
            "_model_module": "@jupyter-widgets/base",
            "_model_module_version": "1.2.0",
            "_model_name": "LayoutModel",
            "_view_count": null,
            "_view_module": "@jupyter-widgets/base",
            "_view_module_version": "1.2.0",
            "_view_name": "LayoutView",
            "align_content": null,
            "align_items": null,
            "align_self": null,
            "border": null,
            "bottom": null,
            "display": null,
            "flex": null,
            "flex_flow": null,
            "grid_area": null,
            "grid_auto_columns": null,
            "grid_auto_flow": null,
            "grid_auto_rows": null,
            "grid_column": null,
            "grid_gap": null,
            "grid_row": null,
            "grid_template_areas": null,
            "grid_template_columns": null,
            "grid_template_rows": null,
            "height": null,
            "justify_content": null,
            "justify_items": null,
            "left": null,
            "margin": null,
            "max_height": null,
            "max_width": null,
            "min_height": null,
            "min_width": null,
            "object_fit": null,
            "object_position": null,
            "order": null,
            "overflow": null,
            "overflow_x": null,
            "overflow_y": null,
            "padding": null,
            "right": null,
            "top": null,
            "visibility": null,
            "width": null
          }
        },
        "1255cb42c5e14fe9b24f76f51c3654a3": {
          "model_module": "@jupyter-widgets/controls",
          "model_name": "DescriptionStyleModel",
          "model_module_version": "1.5.0",
          "state": {
            "_model_module": "@jupyter-widgets/controls",
            "_model_module_version": "1.5.0",
            "_model_name": "DescriptionStyleModel",
            "_view_count": null,
            "_view_module": "@jupyter-widgets/base",
            "_view_module_version": "1.2.0",
            "_view_name": "StyleView",
            "description_width": ""
          }
        },
        "49c34570a6774521a15000910a434cff": {
          "model_module": "@jupyter-widgets/base",
          "model_name": "LayoutModel",
          "model_module_version": "1.2.0",
          "state": {
            "_model_module": "@jupyter-widgets/base",
            "_model_module_version": "1.2.0",
            "_model_name": "LayoutModel",
            "_view_count": null,
            "_view_module": "@jupyter-widgets/base",
            "_view_module_version": "1.2.0",
            "_view_name": "LayoutView",
            "align_content": null,
            "align_items": null,
            "align_self": null,
            "border": null,
            "bottom": null,
            "display": null,
            "flex": null,
            "flex_flow": null,
            "grid_area": null,
            "grid_auto_columns": null,
            "grid_auto_flow": null,
            "grid_auto_rows": null,
            "grid_column": null,
            "grid_gap": null,
            "grid_row": null,
            "grid_template_areas": null,
            "grid_template_columns": null,
            "grid_template_rows": null,
            "height": null,
            "justify_content": null,
            "justify_items": null,
            "left": null,
            "margin": null,
            "max_height": null,
            "max_width": null,
            "min_height": null,
            "min_width": null,
            "object_fit": null,
            "object_position": null,
            "order": null,
            "overflow": null,
            "overflow_x": null,
            "overflow_y": null,
            "padding": null,
            "right": null,
            "top": null,
            "visibility": null,
            "width": "20px"
          }
        },
        "c34f00bc800f45f4b63224995d980274": {
          "model_module": "@jupyter-widgets/controls",
          "model_name": "ProgressStyleModel",
          "model_module_version": "1.5.0",
          "state": {
            "_model_module": "@jupyter-widgets/controls",
            "_model_module_version": "1.5.0",
            "_model_name": "ProgressStyleModel",
            "_view_count": null,
            "_view_module": "@jupyter-widgets/base",
            "_view_module_version": "1.2.0",
            "_view_name": "StyleView",
            "bar_color": null,
            "description_width": ""
          }
        },
        "19d630180a7949b29ce246bfd465d3ef": {
          "model_module": "@jupyter-widgets/base",
          "model_name": "LayoutModel",
          "model_module_version": "1.2.0",
          "state": {
            "_model_module": "@jupyter-widgets/base",
            "_model_module_version": "1.2.0",
            "_model_name": "LayoutModel",
            "_view_count": null,
            "_view_module": "@jupyter-widgets/base",
            "_view_module_version": "1.2.0",
            "_view_name": "LayoutView",
            "align_content": null,
            "align_items": null,
            "align_self": null,
            "border": null,
            "bottom": null,
            "display": null,
            "flex": null,
            "flex_flow": null,
            "grid_area": null,
            "grid_auto_columns": null,
            "grid_auto_flow": null,
            "grid_auto_rows": null,
            "grid_column": null,
            "grid_gap": null,
            "grid_row": null,
            "grid_template_areas": null,
            "grid_template_columns": null,
            "grid_template_rows": null,
            "height": null,
            "justify_content": null,
            "justify_items": null,
            "left": null,
            "margin": null,
            "max_height": null,
            "max_width": null,
            "min_height": null,
            "min_width": null,
            "object_fit": null,
            "object_position": null,
            "order": null,
            "overflow": null,
            "overflow_x": null,
            "overflow_y": null,
            "padding": null,
            "right": null,
            "top": null,
            "visibility": null,
            "width": null
          }
        },
        "619a39da2c5b4d51b2494c349f30ab14": {
          "model_module": "@jupyter-widgets/controls",
          "model_name": "DescriptionStyleModel",
          "model_module_version": "1.5.0",
          "state": {
            "_model_module": "@jupyter-widgets/controls",
            "_model_module_version": "1.5.0",
            "_model_name": "DescriptionStyleModel",
            "_view_count": null,
            "_view_module": "@jupyter-widgets/base",
            "_view_module_version": "1.2.0",
            "_view_name": "StyleView",
            "description_width": ""
          }
        }
      }
    },
    "gpuClass": "standard"
  },
  "cells": [
    {
      "cell_type": "markdown",
      "source": [
        "# Exercise 3 - Emotion Recognition"
      ],
      "metadata": {
        "id": "IbgjR_y1X617"
      }
    },
    {
      "cell_type": "markdown",
      "source": [
        "## 1. Initial Set-Up"
      ],
      "metadata": {
        "id": "mduAWBL2XULs"
      }
    },
    {
      "cell_type": "markdown",
      "source": [
        "### 1.1. Import libraries\n",
        "\n"
      ],
      "metadata": {
        "id": "GcTxnvxOXc0D"
      }
    },
    {
      "cell_type": "code",
      "execution_count": null,
      "metadata": {
        "id": "BC5v203Fp_bK",
        "colab": {
          "base_uri": "https://localhost:8080/"
        },
        "outputId": "a96101a4-6da3-4d8c-b6fc-6bb814af793e"
      },
      "outputs": [
        {
          "output_type": "stream",
          "name": "stdout",
          "text": [
            "Looking in indexes: https://pypi.org/simple, https://us-python.pkg.dev/colab-wheels/public/simple/\n",
            "Requirement already satisfied: emoji in /usr/local/lib/python3.7/dist-packages (2.2.0)\n"
          ]
        },
        {
          "output_type": "stream",
          "name": "stderr",
          "text": [
            "[nltk_data] Downloading collection 'all'\n",
            "[nltk_data]    | \n",
            "[nltk_data]    | Downloading package abc to /root/nltk_data...\n",
            "[nltk_data]    |   Package abc is already up-to-date!\n",
            "[nltk_data]    | Downloading package alpino to /root/nltk_data...\n",
            "[nltk_data]    |   Package alpino is already up-to-date!\n",
            "[nltk_data]    | Downloading package averaged_perceptron_tagger to\n",
            "[nltk_data]    |     /root/nltk_data...\n",
            "[nltk_data]    |   Package averaged_perceptron_tagger is already up-\n",
            "[nltk_data]    |       to-date!\n",
            "[nltk_data]    | Downloading package averaged_perceptron_tagger_ru to\n",
            "[nltk_data]    |     /root/nltk_data...\n",
            "[nltk_data]    |   Package averaged_perceptron_tagger_ru is already\n",
            "[nltk_data]    |       up-to-date!\n",
            "[nltk_data]    | Downloading package basque_grammars to\n",
            "[nltk_data]    |     /root/nltk_data...\n",
            "[nltk_data]    |   Package basque_grammars is already up-to-date!\n",
            "[nltk_data]    | Downloading package biocreative_ppi to\n",
            "[nltk_data]    |     /root/nltk_data...\n",
            "[nltk_data]    |   Package biocreative_ppi is already up-to-date!\n",
            "[nltk_data]    | Downloading package bllip_wsj_no_aux to\n",
            "[nltk_data]    |     /root/nltk_data...\n",
            "[nltk_data]    |   Package bllip_wsj_no_aux is already up-to-date!\n",
            "[nltk_data]    | Downloading package book_grammars to\n",
            "[nltk_data]    |     /root/nltk_data...\n",
            "[nltk_data]    |   Package book_grammars is already up-to-date!\n",
            "[nltk_data]    | Downloading package brown to /root/nltk_data...\n",
            "[nltk_data]    |   Package brown is already up-to-date!\n",
            "[nltk_data]    | Downloading package brown_tei to /root/nltk_data...\n",
            "[nltk_data]    |   Package brown_tei is already up-to-date!\n",
            "[nltk_data]    | Downloading package cess_cat to /root/nltk_data...\n",
            "[nltk_data]    |   Package cess_cat is already up-to-date!\n",
            "[nltk_data]    | Downloading package cess_esp to /root/nltk_data...\n",
            "[nltk_data]    |   Package cess_esp is already up-to-date!\n",
            "[nltk_data]    | Downloading package chat80 to /root/nltk_data...\n",
            "[nltk_data]    |   Package chat80 is already up-to-date!\n",
            "[nltk_data]    | Downloading package city_database to\n",
            "[nltk_data]    |     /root/nltk_data...\n",
            "[nltk_data]    |   Package city_database is already up-to-date!\n",
            "[nltk_data]    | Downloading package cmudict to /root/nltk_data...\n",
            "[nltk_data]    |   Package cmudict is already up-to-date!\n",
            "[nltk_data]    | Downloading package comparative_sentences to\n",
            "[nltk_data]    |     /root/nltk_data...\n",
            "[nltk_data]    |   Package comparative_sentences is already up-to-\n",
            "[nltk_data]    |       date!\n",
            "[nltk_data]    | Downloading package comtrans to /root/nltk_data...\n",
            "[nltk_data]    |   Package comtrans is already up-to-date!\n",
            "[nltk_data]    | Downloading package conll2000 to /root/nltk_data...\n",
            "[nltk_data]    |   Package conll2000 is already up-to-date!\n",
            "[nltk_data]    | Downloading package conll2002 to /root/nltk_data...\n",
            "[nltk_data]    |   Package conll2002 is already up-to-date!\n",
            "[nltk_data]    | Downloading package conll2007 to /root/nltk_data...\n",
            "[nltk_data]    |   Package conll2007 is already up-to-date!\n",
            "[nltk_data]    | Downloading package crubadan to /root/nltk_data...\n",
            "[nltk_data]    |   Package crubadan is already up-to-date!\n",
            "[nltk_data]    | Downloading package dependency_treebank to\n",
            "[nltk_data]    |     /root/nltk_data...\n",
            "[nltk_data]    |   Package dependency_treebank is already up-to-date!\n",
            "[nltk_data]    | Downloading package dolch to /root/nltk_data...\n",
            "[nltk_data]    |   Package dolch is already up-to-date!\n",
            "[nltk_data]    | Downloading package europarl_raw to\n",
            "[nltk_data]    |     /root/nltk_data...\n",
            "[nltk_data]    |   Package europarl_raw is already up-to-date!\n",
            "[nltk_data]    | Downloading package extended_omw to\n",
            "[nltk_data]    |     /root/nltk_data...\n",
            "[nltk_data]    |   Package extended_omw is already up-to-date!\n",
            "[nltk_data]    | Downloading package floresta to /root/nltk_data...\n",
            "[nltk_data]    |   Package floresta is already up-to-date!\n",
            "[nltk_data]    | Downloading package framenet_v15 to\n",
            "[nltk_data]    |     /root/nltk_data...\n",
            "[nltk_data]    |   Package framenet_v15 is already up-to-date!\n",
            "[nltk_data]    | Downloading package framenet_v17 to\n",
            "[nltk_data]    |     /root/nltk_data...\n",
            "[nltk_data]    |   Package framenet_v17 is already up-to-date!\n",
            "[nltk_data]    | Downloading package gazetteers to /root/nltk_data...\n",
            "[nltk_data]    |   Package gazetteers is already up-to-date!\n",
            "[nltk_data]    | Downloading package genesis to /root/nltk_data...\n",
            "[nltk_data]    |   Package genesis is already up-to-date!\n",
            "[nltk_data]    | Downloading package gutenberg to /root/nltk_data...\n",
            "[nltk_data]    |   Package gutenberg is already up-to-date!\n",
            "[nltk_data]    | Downloading package ieer to /root/nltk_data...\n",
            "[nltk_data]    |   Package ieer is already up-to-date!\n",
            "[nltk_data]    | Downloading package inaugural to /root/nltk_data...\n",
            "[nltk_data]    |   Package inaugural is already up-to-date!\n",
            "[nltk_data]    | Downloading package indian to /root/nltk_data...\n",
            "[nltk_data]    |   Package indian is already up-to-date!\n",
            "[nltk_data]    | Downloading package jeita to /root/nltk_data...\n",
            "[nltk_data]    |   Package jeita is already up-to-date!\n",
            "[nltk_data]    | Downloading package kimmo to /root/nltk_data...\n",
            "[nltk_data]    |   Package kimmo is already up-to-date!\n",
            "[nltk_data]    | Downloading package knbc to /root/nltk_data...\n",
            "[nltk_data]    |   Package knbc is already up-to-date!\n",
            "[nltk_data]    | Downloading package large_grammars to\n",
            "[nltk_data]    |     /root/nltk_data...\n",
            "[nltk_data]    |   Package large_grammars is already up-to-date!\n",
            "[nltk_data]    | Downloading package lin_thesaurus to\n",
            "[nltk_data]    |     /root/nltk_data...\n",
            "[nltk_data]    |   Package lin_thesaurus is already up-to-date!\n",
            "[nltk_data]    | Downloading package mac_morpho to /root/nltk_data...\n",
            "[nltk_data]    |   Package mac_morpho is already up-to-date!\n",
            "[nltk_data]    | Downloading package machado to /root/nltk_data...\n",
            "[nltk_data]    |   Package machado is already up-to-date!\n",
            "[nltk_data]    | Downloading package masc_tagged to /root/nltk_data...\n",
            "[nltk_data]    |   Package masc_tagged is already up-to-date!\n",
            "[nltk_data]    | Downloading package maxent_ne_chunker to\n",
            "[nltk_data]    |     /root/nltk_data...\n",
            "[nltk_data]    |   Package maxent_ne_chunker is already up-to-date!\n",
            "[nltk_data]    | Downloading package maxent_treebank_pos_tagger to\n",
            "[nltk_data]    |     /root/nltk_data...\n",
            "[nltk_data]    |   Package maxent_treebank_pos_tagger is already up-\n",
            "[nltk_data]    |       to-date!\n",
            "[nltk_data]    | Downloading package moses_sample to\n",
            "[nltk_data]    |     /root/nltk_data...\n",
            "[nltk_data]    |   Package moses_sample is already up-to-date!\n",
            "[nltk_data]    | Downloading package movie_reviews to\n",
            "[nltk_data]    |     /root/nltk_data...\n",
            "[nltk_data]    |   Package movie_reviews is already up-to-date!\n",
            "[nltk_data]    | Downloading package mte_teip5 to /root/nltk_data...\n",
            "[nltk_data]    |   Package mte_teip5 is already up-to-date!\n",
            "[nltk_data]    | Downloading package mwa_ppdb to /root/nltk_data...\n",
            "[nltk_data]    |   Package mwa_ppdb is already up-to-date!\n",
            "[nltk_data]    | Downloading package names to /root/nltk_data...\n",
            "[nltk_data]    |   Package names is already up-to-date!\n",
            "[nltk_data]    | Downloading package nombank.1.0 to /root/nltk_data...\n",
            "[nltk_data]    |   Package nombank.1.0 is already up-to-date!\n",
            "[nltk_data]    | Downloading package nonbreaking_prefixes to\n",
            "[nltk_data]    |     /root/nltk_data...\n",
            "[nltk_data]    |   Package nonbreaking_prefixes is already up-to-date!\n",
            "[nltk_data]    | Downloading package nps_chat to /root/nltk_data...\n",
            "[nltk_data]    |   Package nps_chat is already up-to-date!\n",
            "[nltk_data]    | Downloading package omw to /root/nltk_data...\n",
            "[nltk_data]    |   Package omw is already up-to-date!\n",
            "[nltk_data]    | Downloading package omw-1.4 to /root/nltk_data...\n",
            "[nltk_data]    |   Package omw-1.4 is already up-to-date!\n",
            "[nltk_data]    | Downloading package opinion_lexicon to\n",
            "[nltk_data]    |     /root/nltk_data...\n",
            "[nltk_data]    |   Package opinion_lexicon is already up-to-date!\n",
            "[nltk_data]    | Downloading package panlex_swadesh to\n",
            "[nltk_data]    |     /root/nltk_data...\n",
            "[nltk_data]    |   Package panlex_swadesh is already up-to-date!\n",
            "[nltk_data]    | Downloading package paradigms to /root/nltk_data...\n",
            "[nltk_data]    |   Package paradigms is already up-to-date!\n",
            "[nltk_data]    | Downloading package pe08 to /root/nltk_data...\n",
            "[nltk_data]    |   Package pe08 is already up-to-date!\n",
            "[nltk_data]    | Downloading package perluniprops to\n",
            "[nltk_data]    |     /root/nltk_data...\n",
            "[nltk_data]    |   Package perluniprops is already up-to-date!\n",
            "[nltk_data]    | Downloading package pil to /root/nltk_data...\n",
            "[nltk_data]    |   Package pil is already up-to-date!\n",
            "[nltk_data]    | Downloading package pl196x to /root/nltk_data...\n",
            "[nltk_data]    |   Package pl196x is already up-to-date!\n",
            "[nltk_data]    | Downloading package porter_test to /root/nltk_data...\n",
            "[nltk_data]    |   Package porter_test is already up-to-date!\n",
            "[nltk_data]    | Downloading package ppattach to /root/nltk_data...\n",
            "[nltk_data]    |   Package ppattach is already up-to-date!\n",
            "[nltk_data]    | Downloading package problem_reports to\n",
            "[nltk_data]    |     /root/nltk_data...\n",
            "[nltk_data]    |   Package problem_reports is already up-to-date!\n",
            "[nltk_data]    | Downloading package product_reviews_1 to\n",
            "[nltk_data]    |     /root/nltk_data...\n",
            "[nltk_data]    |   Package product_reviews_1 is already up-to-date!\n",
            "[nltk_data]    | Downloading package product_reviews_2 to\n",
            "[nltk_data]    |     /root/nltk_data...\n",
            "[nltk_data]    |   Package product_reviews_2 is already up-to-date!\n",
            "[nltk_data]    | Downloading package propbank to /root/nltk_data...\n",
            "[nltk_data]    |   Package propbank is already up-to-date!\n",
            "[nltk_data]    | Downloading package pros_cons to /root/nltk_data...\n",
            "[nltk_data]    |   Package pros_cons is already up-to-date!\n",
            "[nltk_data]    | Downloading package ptb to /root/nltk_data...\n",
            "[nltk_data]    |   Package ptb is already up-to-date!\n",
            "[nltk_data]    | Downloading package punkt to /root/nltk_data...\n",
            "[nltk_data]    |   Package punkt is already up-to-date!\n",
            "[nltk_data]    | Downloading package qc to /root/nltk_data...\n",
            "[nltk_data]    |   Package qc is already up-to-date!\n",
            "[nltk_data]    | Downloading package reuters to /root/nltk_data...\n",
            "[nltk_data]    |   Package reuters is already up-to-date!\n",
            "[nltk_data]    | Downloading package rslp to /root/nltk_data...\n",
            "[nltk_data]    |   Package rslp is already up-to-date!\n",
            "[nltk_data]    | Downloading package rte to /root/nltk_data...\n",
            "[nltk_data]    |   Package rte is already up-to-date!\n",
            "[nltk_data]    | Downloading package sample_grammars to\n",
            "[nltk_data]    |     /root/nltk_data...\n",
            "[nltk_data]    |   Package sample_grammars is already up-to-date!\n",
            "[nltk_data]    | Downloading package semcor to /root/nltk_data...\n",
            "[nltk_data]    |   Package semcor is already up-to-date!\n",
            "[nltk_data]    | Downloading package senseval to /root/nltk_data...\n",
            "[nltk_data]    |   Package senseval is already up-to-date!\n",
            "[nltk_data]    | Downloading package sentence_polarity to\n",
            "[nltk_data]    |     /root/nltk_data...\n",
            "[nltk_data]    |   Package sentence_polarity is already up-to-date!\n",
            "[nltk_data]    | Downloading package sentiwordnet to\n",
            "[nltk_data]    |     /root/nltk_data...\n",
            "[nltk_data]    |   Package sentiwordnet is already up-to-date!\n",
            "[nltk_data]    | Downloading package shakespeare to /root/nltk_data...\n",
            "[nltk_data]    |   Package shakespeare is already up-to-date!\n",
            "[nltk_data]    | Downloading package sinica_treebank to\n",
            "[nltk_data]    |     /root/nltk_data...\n",
            "[nltk_data]    |   Package sinica_treebank is already up-to-date!\n",
            "[nltk_data]    | Downloading package smultron to /root/nltk_data...\n",
            "[nltk_data]    |   Package smultron is already up-to-date!\n",
            "[nltk_data]    | Downloading package snowball_data to\n",
            "[nltk_data]    |     /root/nltk_data...\n",
            "[nltk_data]    |   Package snowball_data is already up-to-date!\n",
            "[nltk_data]    | Downloading package spanish_grammars to\n",
            "[nltk_data]    |     /root/nltk_data...\n",
            "[nltk_data]    |   Package spanish_grammars is already up-to-date!\n",
            "[nltk_data]    | Downloading package state_union to /root/nltk_data...\n",
            "[nltk_data]    |   Package state_union is already up-to-date!\n",
            "[nltk_data]    | Downloading package stopwords to /root/nltk_data...\n",
            "[nltk_data]    |   Package stopwords is already up-to-date!\n",
            "[nltk_data]    | Downloading package subjectivity to\n",
            "[nltk_data]    |     /root/nltk_data...\n",
            "[nltk_data]    |   Package subjectivity is already up-to-date!\n",
            "[nltk_data]    | Downloading package swadesh to /root/nltk_data...\n",
            "[nltk_data]    |   Package swadesh is already up-to-date!\n",
            "[nltk_data]    | Downloading package switchboard to /root/nltk_data...\n",
            "[nltk_data]    |   Package switchboard is already up-to-date!\n",
            "[nltk_data]    | Downloading package tagsets to /root/nltk_data...\n",
            "[nltk_data]    |   Package tagsets is already up-to-date!\n",
            "[nltk_data]    | Downloading package timit to /root/nltk_data...\n",
            "[nltk_data]    |   Package timit is already up-to-date!\n",
            "[nltk_data]    | Downloading package toolbox to /root/nltk_data...\n",
            "[nltk_data]    |   Package toolbox is already up-to-date!\n",
            "[nltk_data]    | Downloading package treebank to /root/nltk_data...\n",
            "[nltk_data]    |   Package treebank is already up-to-date!\n",
            "[nltk_data]    | Downloading package twitter_samples to\n",
            "[nltk_data]    |     /root/nltk_data...\n",
            "[nltk_data]    |   Package twitter_samples is already up-to-date!\n",
            "[nltk_data]    | Downloading package udhr to /root/nltk_data...\n",
            "[nltk_data]    |   Package udhr is already up-to-date!\n",
            "[nltk_data]    | Downloading package udhr2 to /root/nltk_data...\n",
            "[nltk_data]    |   Package udhr2 is already up-to-date!\n",
            "[nltk_data]    | Downloading package unicode_samples to\n",
            "[nltk_data]    |     /root/nltk_data...\n",
            "[nltk_data]    |   Package unicode_samples is already up-to-date!\n",
            "[nltk_data]    | Downloading package universal_tagset to\n",
            "[nltk_data]    |     /root/nltk_data...\n",
            "[nltk_data]    |   Package universal_tagset is already up-to-date!\n",
            "[nltk_data]    | Downloading package universal_treebanks_v20 to\n",
            "[nltk_data]    |     /root/nltk_data...\n",
            "[nltk_data]    |   Package universal_treebanks_v20 is already up-to-\n",
            "[nltk_data]    |       date!\n",
            "[nltk_data]    | Downloading package vader_lexicon to\n",
            "[nltk_data]    |     /root/nltk_data...\n",
            "[nltk_data]    |   Package vader_lexicon is already up-to-date!\n",
            "[nltk_data]    | Downloading package verbnet to /root/nltk_data...\n",
            "[nltk_data]    |   Package verbnet is already up-to-date!\n",
            "[nltk_data]    | Downloading package verbnet3 to /root/nltk_data...\n",
            "[nltk_data]    |   Package verbnet3 is already up-to-date!\n",
            "[nltk_data]    | Downloading package webtext to /root/nltk_data...\n",
            "[nltk_data]    |   Package webtext is already up-to-date!\n",
            "[nltk_data]    | Downloading package wmt15_eval to /root/nltk_data...\n",
            "[nltk_data]    |   Package wmt15_eval is already up-to-date!\n",
            "[nltk_data]    | Downloading package word2vec_sample to\n",
            "[nltk_data]    |     /root/nltk_data...\n",
            "[nltk_data]    |   Package word2vec_sample is already up-to-date!\n",
            "[nltk_data]    | Downloading package wordnet to /root/nltk_data...\n",
            "[nltk_data]    |   Package wordnet is already up-to-date!\n",
            "[nltk_data]    | Downloading package wordnet2021 to /root/nltk_data...\n",
            "[nltk_data]    |   Package wordnet2021 is already up-to-date!\n",
            "[nltk_data]    | Downloading package wordnet31 to /root/nltk_data...\n",
            "[nltk_data]    |   Package wordnet31 is already up-to-date!\n",
            "[nltk_data]    | Downloading package wordnet_ic to /root/nltk_data...\n",
            "[nltk_data]    |   Package wordnet_ic is already up-to-date!\n",
            "[nltk_data]    | Downloading package words to /root/nltk_data...\n",
            "[nltk_data]    |   Package words is already up-to-date!\n",
            "[nltk_data]    | Downloading package ycoe to /root/nltk_data...\n",
            "[nltk_data]    |   Package ycoe is already up-to-date!\n",
            "[nltk_data]    | \n",
            "[nltk_data]  Done downloading collection all\n"
          ]
        }
      ],
      "source": [
        "!pip install emoji\n",
        "import torch\n",
        "import torch.nn as nn\n",
        "import torch.nn.functional as F\n",
        "import torch.optim as optim\n",
        "\n",
        "import pandas as pd\n",
        "import numpy as np\n",
        "import string\n",
        "import re\n",
        "import emoji\n",
        "from textblob import TextBlob\n",
        "from collections import Counter, OrderedDict\n",
        "\n",
        "import os\n",
        "import tqdm\n",
        "import nltk\n",
        "nltk.download(\"all\")\n",
        "import matplotlib.pyplot as plt\n",
        "import random\n",
        "import time\n",
        "import copy\n",
        "\n",
        "from nltk.tokenize import word_tokenize\n",
        "from collections import defaultdict\n",
        "from torch.utils.data import (TensorDataset, DataLoader, RandomSampler, SequentialSampler)\n",
        "from sklearn.model_selection import train_test_split\n",
        "from sklearn.metrics import accuracy_score, f1_score\n",
        "\n",
        "%matplotlib inline"
      ]
    },
    {
      "cell_type": "markdown",
      "source": [
        "### 1.2. Download fastText Word Vectors"
      ],
      "metadata": {
        "id": "HScZ-8W7kybT"
      }
    },
    {
      "cell_type": "markdown",
      "source": [
        "The pretrained word vectors used in the original paper are *word2vec* (Mikolov et al., 2013). They are trained on 100 billion tokens from Google News. In this tutorial, we will use [*fastText* pretrained word vectors](https://fasttext.cc/docs/en/english-vectors.html) (Mikolov et al., 2017), trained on 600 billion tokens from Common Crawl. *fastText* is an upgraded version of *word2vec*. It outperforms other state-of-the-art methods by a large margin.\n",
        "\n",
        "The code below downloads the fastText pretrained vectors. "
      ],
      "metadata": {
        "id": "cJbkMGX-XsmE"
      }
    },
    {
      "cell_type": "code",
      "source": [
        "URL = \"https://dl.fbaipublicfiles.com/fasttext/vectors-english/crawl-300d-2M.vec.zip\"\n",
        "FILE = \"fastText\"\n",
        "\n",
        "if os.path.isdir(FILE):\n",
        "    print(\"fastText exists.\")\n",
        "else:\n",
        "    !wget -P $FILE $URL\n",
        "    !unzip $FILE/crawl-300d-2M.vec.zip -d $FILE"
      ],
      "metadata": {
        "id": "m-s4BM6TFNxV",
        "colab": {
          "base_uri": "https://localhost:8080/"
        },
        "outputId": "f0f3a97f-4787-410f-a24f-2eebbc1a4b3e"
      },
      "execution_count": null,
      "outputs": [
        {
          "output_type": "stream",
          "name": "stdout",
          "text": [
            "fastText exists.\n"
          ]
        }
      ]
    },
    {
      "cell_type": "markdown",
      "source": [
        "### 1.4. Set up GPU for Training"
      ],
      "metadata": {
        "id": "oPT64jjLYM0U"
      }
    },
    {
      "cell_type": "code",
      "source": [
        "if torch.cuda.is_available():       \n",
        "    device = torch.device(\"cuda\")\n",
        "    print(f'There are {torch.cuda.device_count()} GPU(s) available.')\n",
        "    print('Device name:', torch.cuda.get_device_name(0))\n",
        "\n",
        "else:\n",
        "    print('No GPU available, using the CPU instead.')\n",
        "    device = torch.device(\"cpu\")"
      ],
      "metadata": {
        "id": "kvOU5V_bjRVq",
        "colab": {
          "base_uri": "https://localhost:8080/"
        },
        "outputId": "98621ab3-59c4-4cfe-ee5e-1a4e19457982"
      },
      "execution_count": null,
      "outputs": [
        {
          "output_type": "stream",
          "name": "stdout",
          "text": [
            "No GPU available, using the CPU instead.\n"
          ]
        }
      ]
    },
    {
      "cell_type": "markdown",
      "source": [
        "### 1.5. Set seed for reproductivity"
      ],
      "metadata": {
        "id": "Kz1W6VEZYQkL"
      }
    },
    {
      "cell_type": "code",
      "source": [
        "def set_seed(seed_value=42):\n",
        "    \"\"\"Set seed for reproducibility.\"\"\"\n",
        "\n",
        "    random.seed(seed_value)\n",
        "    np.random.seed(seed_value)\n",
        "    torch.manual_seed(seed_value)\n",
        "    torch.cuda.manual_seed_all(seed_value)\n",
        "\n",
        "set_seed()"
      ],
      "metadata": {
        "id": "mU7U3FtyJCP6"
      },
      "execution_count": null,
      "outputs": []
    },
    {
      "cell_type": "markdown",
      "source": [
        "## 2. Data Preparation and Preprocessing"
      ],
      "metadata": {
        "id": "pCi5q9bVlAOl"
      }
    },
    {
      "cell_type": "markdown",
      "source": [
        "### 2.1. Fetch the data from the github repository"
      ],
      "metadata": {
        "id": "ss7_Gp3lbKwk"
      }
    },
    {
      "cell_type": "markdown",
      "source": [
        "This is the class to import and preprocess both training and test(ing) data. \n",
        "\n",
        "In order to clean up the data, for each text, we decided to do the following steps:\n",
        "\n",
        "\n",
        "1.   Remove the html tags\n",
        "2.   Convert all letters to lower case\n",
        "3.   Remove all punctuation\n",
        "4.   Convert all emojis to words (We decided to do this, because the emojis may contain decisive/important information about different emtions)\n",
        "\n"
      ],
      "metadata": {
        "id": "zPv_jzetY2z8"
      }
    },
    {
      "cell_type": "code",
      "source": [
        "class Dataset():\n",
        "    # Initialise\n",
        "    def __init__(self,task_url):\n",
        "        self.task_url=task_url\n",
        "        self.train_df_full=None\n",
        "        self.test_df_full=None\n",
        "        self.mapping_dict=None\n",
        "        self.train_texts=None\n",
        "        self.test_texts=None\n",
        "        self.train_labels=None\n",
        "        self.test_labels=None\n",
        "    \n",
        "    # Load the data from the github project\n",
        "    def load_data(self):\n",
        "        train_text_df_raw=pd.read_csv(self.task_url+\"/train_text.txt\", sep =\"/n\", engine ='python', header = None, names=['text'])\n",
        "        val_text_df_raw=pd.read_csv(self.task_url+\"/val_text.txt\", sep =\"/n\", engine ='python', header = None, names=['text'])\n",
        "        test_text_df_raw=pd.read_csv(self.task_url+\"/test_text.txt\", sep =\"/n\", engine ='python', header = None, names=['text'])\n",
        "        train_label_df=pd.read_csv(self.task_url+\"/train_labels.txt\", sep =\"/n\", engine ='python', header = None, names=['label'])\n",
        "        val_label_df=pd.read_csv(self.task_url+\"/val_labels.txt\", sep =\"/n\", engine ='python', header = None, names=['label'])\n",
        "        test_label_df=pd.read_csv(self.task_url+\"/test_labels.txt\", sep =\"/n\", engine ='python', header = None, names=['label'])\n",
        "        self.train_df_full=pd.concat([train_text_df_raw,train_label_df],axis=1)\n",
        "        self.val_df_full=pd.concat([val_text_df_raw,val_label_df],axis=1)\n",
        "        self.test_df_full=pd.concat([test_text_df_raw,test_label_df],axis=1)\n",
        "        mapping_df=pd.read_csv(self.task_url+\"/mapping.txt\", sep =\"\\t\", header = None, names=['label','meaning'])\n",
        "        self.mapping_dict={}\n",
        "        for l in mapping_df.label:\n",
        "          self.mapping_dict[l]=mapping_df[mapping_df['label']==l]['meaning'].values[0]\n",
        "        avaliable_str=\"\"\n",
        "        for k in self.mapping_dict.keys():\n",
        "            avaliable_str+=str(k)+\":\"+self.mapping_dict[k]+\" \"\n",
        "        print(\"Classes avaliable: \"+avaliable_str)\n",
        "    \n",
        "    # Text preprossesing functions\n",
        "\n",
        "    # Remove any html tags\n",
        "    def remove_html_tags(self, text):\n",
        "        re_html = re.compile('<.*?>')\n",
        "        return re_html.sub(r'', text)\n",
        "\n",
        "\n",
        "    # Convert all characters to lower-case\n",
        "    def convert_lowercase(self, text):\n",
        "        return text.lower()\n",
        "\n",
        "    # Remove any html tags\n",
        "    def remove_numbers(self, text):\n",
        "        return re.sub(r\"\\d+\", \"\", text)\n",
        "    # Remove all punctuation\n",
        "    def remove_punc(self, text):\n",
        "        x=''\n",
        "        for i in range(len(text)):\n",
        "            if text[i] in string.punctuation:\n",
        "                if i!=0: \n",
        "                    if text[i-1]!=\" \":\n",
        "                        x=x+\" \"\n",
        "            else:\n",
        "                x=x+text[i]\n",
        "        return x\n",
        "\n",
        "    # Convert all emojis to text\n",
        "    def convert_emoji(self, text):\n",
        "        return emoji.demojize(text)\n",
        "    \n",
        "    # Check for any spelling mistakes\n",
        "    def spelling_correction(self, text):\n",
        "        textblob_ = TextBlob(text)\n",
        "        return textblob_.correct().string\n",
        "    \n",
        "    # Apply the functions above\n",
        "    def preprocessing(self, df):\n",
        "        df=df.apply(self.remove_html_tags)\n",
        "        df=df.apply(self.convert_lowercase)\n",
        "        df=df.apply(self.convert_emoji)\n",
        "        df=df.apply(self.remove_numbers)\n",
        "        df=df.apply(self.remove_punc)\n",
        "        #df=df.apply(self.spelling_correction)\n",
        "        return df\n",
        "\n",
        "    def generate_dataset(self, class1, class2):\n",
        "        #Choose two labels to generate the train and test dataset\n",
        "        self.load_data()\n",
        "        print(\"Selected classes: \"+str(self.mapping_dict[class1])+\", \"+str(self.mapping_dict[class2]))\n",
        "        print(\"Labels: 0, 1\")\n",
        "        train_df_selected=pd.concat([self.train_df_full[self.train_df_full['label']==class1], self.train_df_full[self.train_df_full['label']==class2]]).sample(frac=1).reset_index(drop=True)\n",
        "        val_df_selected=pd.concat([self.val_df_full[self.val_df_full['label']==class1], self.val_df_full[self.val_df_full['label']==class2]]).sample(frac=1).reset_index(drop=True)\n",
        "        test_df_selected=pd.concat([self.test_df_full[self.test_df_full['label']==class1], self.test_df_full[self.test_df_full['label']==class2]]).sample(frac=1).reset_index(drop=True)\n",
        "        train_df_selected['text']=self.preprocessing(train_df_selected['text'])\n",
        "        val_df_selected['text']=self.preprocessing(val_df_selected['text'])\n",
        "        test_df_selected['text']=self.preprocessing(test_df_selected['text'])\n",
        "        transfer_dict={class1:0,class2:1}\n",
        "        self.train_texts, self.train_labels=train_df_selected['text'].values,train_df_selected['label'].values\n",
        "        self.val_texts, self.val_labels=val_df_selected['text'].values,val_df_selected['label'].values\n",
        "        self.test_texts, self.test_labels=test_df_selected['text'].values,test_df_selected['label'].values\n",
        "        self.train_labels, self.val_labels, self.test_labels = self.replace_with_dict(self.train_labels, transfer_dict), self.replace_with_dict(self.val_labels, transfer_dict), self.replace_with_dict(self.test_labels, transfer_dict)\n",
        "        self.label_meaning={0:self.mapping_dict[class1],1:self.mapping_dict[class2]}\n",
        "        return self.train_texts,self.train_labels,self.val_texts,self.val_labels,self.test_texts,self.test_labels,self.label_meaning\n",
        "\n",
        "    def replace_with_dict(self, ar, dic):\n",
        "        k = np.array(list(dic.keys()))\n",
        "        v = np.array(list(dic.values()))\n",
        "        sidx = k.argsort()\n",
        "        return v[sidx[np.searchsorted(k,ar,sorter=sidx)]]"
      ],
      "metadata": {
        "id": "B8GXaTKfqKt3"
      },
      "execution_count": null,
      "outputs": []
    },
    {
      "cell_type": "markdown",
      "source": [
        "The first dataset contains the *anger (label 0)* and *joy (label 1)* emotions, and the second contains *anger (label 0)* and *optimism (label 1)* emotions:"
      ],
      "metadata": {
        "id": "KwUvPjgGl15g"
      }
    },
    {
      "cell_type": "code",
      "source": [
        "task_url = \"https://raw.githubusercontent.com/cardiffnlp/tweeteval/main/datasets/emotion\"\n",
        "dataset = Dataset(task_url)\n",
        "train_texts_1,train_labels_1,val_texts_1,val_labels_1,test_texts_1,test_labels_1,label_meaning_1 = dataset.generate_dataset(0,1)\n",
        "train_texts_2,train_labels_2,val_texts_2,val_labels_2,test_texts_2,test_labels_2,label_meaning_2 = dataset.generate_dataset(0,2)"
      ],
      "metadata": {
        "colab": {
          "base_uri": "https://localhost:8080/"
        },
        "id": "gRZmzMKEsxm2",
        "outputId": "fcb49982-6a20-4fae-d697-e89c3d129446"
      },
      "execution_count": null,
      "outputs": [
        {
          "output_type": "stream",
          "name": "stdout",
          "text": [
            "Classes avaliable: 0:anger 1:joy 2:optimism 3:sadness \n",
            "Selected classes: anger, joy\n",
            "Labels: 0, 1\n",
            "Classes avaliable: 0:anger 1:joy 2:optimism 3:sadness \n",
            "Selected classes: anger, optimism\n",
            "Labels: 0, 1\n"
          ]
        }
      ]
    },
    {
      "cell_type": "markdown",
      "source": [
        "### 2.2. Create the training and test(ing) data loader for the model.\n"
      ],
      "metadata": {
        "id": "8iso6EKkmCvj"
      }
    },
    {
      "cell_type": "markdown",
      "source": [
        "To prepare our text data for training, we need to tokenize our sentences and build a vocabulary dictionary word2idx. The dictionary will later be used to convert our tokens into indexes and build an embedding layer.\n",
        "\n",
        "Below are the steps we perfom:\n",
        "\n",
        "\n",
        "1.   Tokenize\n",
        "\n",
        "> The function \"tokenize\" tokenizes our sentences, in order to build a vocabulary and find the maximum sentence length. The function \"encode\" takes in the outputs of tokenize, performs sentence padding and stores input_ids as a numpy array in the class.\n",
        "\n",
        "2.   Load Pretrained Vectors\n",
        "\n",
        "> We load the pretrained vectors for each token in our vocabulary. For tokens without pretraiend vectors, we initialize random word vectors with the same length and variance.\n",
        "\n",
        "\n",
        "3.   Create PyTorch DataLoader for Train, Validation and Test Datasets\n",
        "\n",
        "> We create an iterator for our dataset using the torch DataLoader class. This will help us minimize memory-use during training and boost the training speed. Tokenize the sentences and convert them into vectors according to the saved *words2idx* dictionary. If the length of the test senetence happens to be n-words longer than the max length, the sentence is shortened, by ignoring the last n-words.\n",
        "\n",
        "\n",
        "\n"
      ],
      "metadata": {
        "id": "UUX3n_Z-dnXL"
      }
    },
    {
      "cell_type": "code",
      "source": [
        "class TextVector():\n",
        "    def __init__(self,train_texts,val_texts,train_labels,val_labels):\n",
        "        self.train_texts=train_texts\n",
        "        self.train_labels=train_labels\n",
        "        self.val_texts=val_texts\n",
        "        self.val_labels=val_labels\n",
        "        self.train_texts_full=np.hstack([train_texts,val_texts])\n",
        "        self.train_labels_full=np.hstack([train_labels,val_labels])                              \n",
        "        self.tokenized_texts=[]\n",
        "        self.word2idx={}\n",
        "        self.max_len=0\n",
        "        self.input_ids=None\n",
        "        self.embeddings=None\n",
        "\n",
        "    def tokenize(self):\n",
        "        self.word2idx['<pad>'] = 0\n",
        "        self.word2idx['<unk>'] = 1\n",
        "\n",
        "        idx = 2\n",
        "        for sent in self.train_texts_full:\n",
        "            tokenized_sent = word_tokenize(sent)\n",
        "\n",
        "            # Add `tokenized_sent` to `tokenized_texts`\n",
        "            self.tokenized_texts.append(tokenized_sent)\n",
        "\n",
        "            # Add new token to `word2idx`\n",
        "            for token in tokenized_sent:\n",
        "                if token not in self.word2idx:\n",
        "                    self.word2idx[token] = idx\n",
        "                    idx += 1\n",
        "\n",
        "            # Update `max_len`\n",
        "            self.max_len = max(self.max_len, len(tokenized_sent))\n",
        "\n",
        "    def encode_train(self):\n",
        "        input_ids = []\n",
        "        for tokenized_sent in self.tokenized_texts:\n",
        "        # Pad sentences to max_len\n",
        "            tokenized_sent += ['<pad>'] * (self.max_len - len(tokenized_sent))\n",
        "\n",
        "        # Encode tokens to input_ids\n",
        "            input_id = [self.word2idx.get(token) for token in tokenized_sent]\n",
        "            input_ids.append(input_id)\n",
        "    \n",
        "        self.input_ids=np.array(input_ids)\n",
        "\n",
        "    def load_pretrained_vectors(self, fname):\n",
        "        fin = open(fname, 'r', encoding='utf-8', newline='\\n', errors='ignore')\n",
        "        n, d = map(int, fin.readline().split())\n",
        "\n",
        "        # Initilize random embeddings\n",
        "        self.embeddings = np.random.uniform(-0.25, 0.25, (len(self.word2idx), d))\n",
        "        self.embeddings[self.word2idx['<pad>']] = np.zeros((d,))\n",
        "\n",
        "        # Load pretrained vectors\n",
        "        count = 0\n",
        "        for line in tqdm.notebook.tqdm(fin):\n",
        "            tokens = line.rstrip().split(' ')\n",
        "            word = tokens[0]\n",
        "            if word in self.word2idx:\n",
        "                count += 1\n",
        "                self.embeddings[self.word2idx[word]] = np.array(tokens[1:], dtype=np.float32)\n",
        "\n",
        "        print(f\"There are {count} / {len(self.word2idx)} pretrained vectors found.\")\n",
        "    \n",
        "    def create_train_data_loader(self, batch_size=50):\n",
        "        train_inputs=[]\n",
        "        for sent in self.train_texts:\n",
        "            tokenized_sent = word_tokenize(sent)\n",
        "            padded_tokens = tokenized_sent + ['<pad>'] * (self.max_len - len(tokenized_sent))\n",
        "            train_input_id = [self.word2idx.get(token, self.word2idx['<unk>']) for token in padded_tokens]\n",
        "            train_inputs.append(train_input_id)\n",
        "        train_inputs = torch.tensor(train_inputs)\n",
        "        train_labels = torch.tensor(self.train_labels)\n",
        "\n",
        "        train_data = TensorDataset(train_inputs, train_labels)\n",
        "        train_sampler = RandomSampler(train_data)\n",
        "        self.train_dataloader = DataLoader(train_data, sampler=train_sampler, batch_size=batch_size)\n",
        "        return self.train_dataloader\n",
        "\n",
        "    def create_val_data_loader(self, batch_size=50):\n",
        "        val_inputs=[]\n",
        "        for sent in self.val_texts:\n",
        "            tokenized_sent = word_tokenize(sent)\n",
        "            padded_tokens = tokenized_sent + ['<pad>'] * (self.max_len - len(tokenized_sent))\n",
        "            val_input_id = [self.word2idx.get(token, self.word2idx['<unk>']) for token in padded_tokens]\n",
        "            val_inputs.append(val_input_id)\n",
        "        val_inputs = torch.tensor(val_inputs)\n",
        "        val_labels = torch.tensor(self.val_labels)\n",
        "\n",
        "        val_data = TensorDataset(val_inputs, val_labels)\n",
        "        val_sampler = RandomSampler(val_data)\n",
        "        self.val_dataloader = DataLoader(val_data, sampler=val_sampler, batch_size=batch_size)\n",
        "        return self.val_dataloader\n",
        "\n",
        "    \n",
        "    def create_data_loader(self, pretrained_model_name, batch_size=50):\n",
        "        self.tokenize()\n",
        "        self.encode_train()\n",
        "        self.load_pretrained_vectors(pretrained_model_name)\n",
        "        self.train_dataloader=self.create_train_data_loader(batch_size=batch_size)\n",
        "        self.val_dataloader=self.create_val_data_loader(batch_size=batch_size)\n",
        "        self.embeddings = torch.tensor(self.embeddings)\n",
        "        return self.embeddings, self.train_dataloader, self.val_dataloader\n",
        "\n",
        "    def create_test_data_loader(self, test_texts, test_labels, batch_size=50):\n",
        "        test_inputs=[]\n",
        "        for sent in test_texts:\n",
        "            tokenized_sent = word_tokenize(sent)\n",
        "            if self.max_len>=len(tokenized_sent):\n",
        "                padded_tokens = tokenized_sent + ['<pad>'] * (self.max_len - len(tokenized_sent))\n",
        "            else:\n",
        "                padded_tokens = tokenized_sent[:self.max_len]\n",
        "                print(\"Some words are deleted\")\n",
        "            test_input_id = [self.word2idx.get(token, self.word2idx['<unk>']) for token in padded_tokens]\n",
        "            test_inputs.append(test_input_id)\n",
        "        test_inputs = torch.tensor(test_inputs)\n",
        "        test_labels = torch.tensor(test_labels)\n",
        "\n",
        "        test_data = TensorDataset(test_inputs, test_labels)\n",
        "        test_sampler = RandomSampler(test_data)\n",
        "        self.test_dataloader = DataLoader(test_data, sampler=test_sampler, batch_size=batch_size)\n",
        "        return self.test_dataloader\n",
        "\n",
        "\n",
        "    def get_word2idx(self):\n",
        "        return self.word2idx\n",
        "\n"
      ],
      "metadata": {
        "id": "N3tM40Aqxzsw"
      },
      "execution_count": null,
      "outputs": []
    },
    {
      "cell_type": "code",
      "source": [
        "textVector_1=TextVector(train_texts_1,val_texts_1,train_labels_1,val_labels_1)\n",
        "embeddings_1,train_data_loader_1,val_data_loader_1=textVector_1.create_data_loader(\"fastText/crawl-300d-2M.vec\")\n",
        "test_data_loader_1 = textVector_1.create_test_data_loader(test_texts_1,test_labels_1)"
      ],
      "metadata": {
        "colab": {
          "base_uri": "https://localhost:8080/",
          "height": 118,
          "referenced_widgets": [
            "c618b9788c8441bf84e3327d6fb89aa4",
            "33fa038248114c0882c12d223c1c7510",
            "6cd29edc1da94c3baf9ae4f66f7eb1fd",
            "ce738eec53454f02bd2f0ce284925e45",
            "fcf6644defed4a63ba3fc49667e8c534",
            "100a0f2754e249a49d915e17aa526fa1",
            "7b0583a8e94549a9a2e6399e62058190",
            "552f1eca9815416080a9fa8094fb9de8",
            "548a657c1b1b4430b6acf90c1917ac40",
            "771fba740359470d85e0efdebb0260e5",
            "c669509c59a74abb999d796d1699948f"
          ]
        },
        "id": "feywMTec20ey",
        "outputId": "6e6bccb2-42a2-4a83-9e1b-179876402761"
      },
      "execution_count": null,
      "outputs": [
        {
          "output_type": "display_data",
          "data": {
            "text/plain": [
              "0it [00:00, ?it/s]"
            ],
            "application/vnd.jupyter.widget-view+json": {
              "version_major": 2,
              "version_minor": 0,
              "model_id": "c618b9788c8441bf84e3327d6fb89aa4"
            }
          },
          "metadata": {}
        },
        {
          "output_type": "stream",
          "name": "stdout",
          "text": [
            "There are 6351 / 7080 pretrained vectors found.\n",
            "Some words are deleted\n",
            "Some words are deleted\n",
            "Some words are deleted\n"
          ]
        }
      ]
    },
    {
      "cell_type": "code",
      "source": [
        "textVector_2=TextVector(train_texts_2,val_texts_2,train_labels_2,val_labels_2)\n",
        "embeddings_2,train_data_loader_2,val_data_loader_2=textVector_2.create_data_loader(\"fastText/crawl-300d-2M.vec\")\n",
        "test_data_loader_2 = textVector_2.create_test_data_loader(test_texts_2,test_labels_2)"
      ],
      "metadata": {
        "id": "gQ55chV_Nm72",
        "colab": {
          "base_uri": "https://localhost:8080/",
          "height": 66,
          "referenced_widgets": [
            "bfe5b1e46a7d45e7a61a29e63e6fd214",
            "526b1807cc9c4c92b4e2b729b96f25e3",
            "a2318e2aaa72428f9172de45ece2d693",
            "75fb4d0200e04a62a476be0194bf3984",
            "f20d6e46ccfe47898bcbe746b76621af",
            "1bc073a53fda497287add6942fe44d68",
            "1255cb42c5e14fe9b24f76f51c3654a3",
            "49c34570a6774521a15000910a434cff",
            "c34f00bc800f45f4b63224995d980274",
            "19d630180a7949b29ce246bfd465d3ef",
            "619a39da2c5b4d51b2494c349f30ab14"
          ]
        },
        "outputId": "bf5261db-8032-4e85-a072-138b05fdba4c"
      },
      "execution_count": null,
      "outputs": [
        {
          "output_type": "display_data",
          "data": {
            "text/plain": [
              "0it [00:00, ?it/s]"
            ],
            "application/vnd.jupyter.widget-view+json": {
              "version_major": 2,
              "version_minor": 0,
              "model_id": "bfe5b1e46a7d45e7a61a29e63e6fd214"
            }
          },
          "metadata": {}
        },
        {
          "output_type": "stream",
          "name": "stdout",
          "text": [
            "There are 5442 / 5953 pretrained vectors found.\n"
          ]
        }
      ]
    },
    {
      "cell_type": "markdown",
      "source": [
        "## 3. Training and testing the model"
      ],
      "metadata": {
        "id": "fDo6Z55sgW4b"
      }
    },
    {
      "cell_type": "markdown",
      "source": [
        "### 3.1. Model structure"
      ],
      "metadata": {
        "id": "yO5l279Dhcir"
      }
    },
    {
      "cell_type": "markdown",
      "source": [
        "We built our model upon this existing model. Please check the link to see how it works. Source: [notebook](https://chriskhanhtran.github.io/posts/cnn-sentence-classification/)"
      ],
      "metadata": {
        "id": "PmHudnGrhiHh"
      }
    },
    {
      "cell_type": "code",
      "source": [
        "class CNN_NLP(nn.Module):\n",
        "    def __init__(self,\n",
        "                 pretrained_embedding=None,\n",
        "                 freeze_embedding=False,\n",
        "                 vocab_size=None,\n",
        "                 embed_dim=300,\n",
        "                 filter_sizes=[3, 4, 5],\n",
        "                 num_filters=[100, 100, 100],\n",
        "                 stride_sizes=[1, 1, 1],\n",
        "                 num_classes=2,\n",
        "                 dropout=0.5):\n",
        "\n",
        "        super(CNN_NLP, self).__init__()\n",
        "        # Embedding layer\n",
        "        if pretrained_embedding is not None:\n",
        "            self.vocab_size, self.embed_dim = pretrained_embedding.shape\n",
        "            self.embedding = nn.Embedding.from_pretrained(pretrained_embedding, freeze=freeze_embedding)\n",
        "        else:\n",
        "            self.embed_dim = embed_dim\n",
        "            self.embedding = nn.Embedding(num_embeddings=vocab_size, embedding_dim=self.embed_dim, padding_idx=0, max_norm=5.0)\n",
        "        # Convolutional Network\n",
        "        self.conv1d_list = nn.ModuleList([\n",
        "            nn.Conv1d(in_channels=self.embed_dim, out_channels=num_filters[i], kernel_size=filter_sizes[i], stride = stride_sizes[i])\n",
        "            for i in range(len(filter_sizes))\n",
        "        ])\n",
        "        # Fully-connected layer and Dropout\n",
        "        self.fc = nn.Linear(np.sum(num_filters), num_classes)\n",
        "        self.dropout = nn.Dropout(p=dropout)\n",
        "    def forward(self, input_ids):\n",
        "        \n",
        "        # Get embeddings from `input_ids`. Output shape: (b, max_len, embed_dim)\n",
        "        x_embed = self.embedding(input_ids).float()\n",
        "\n",
        "        # Permute `x_embed` to match input shape requirement of `nn.Conv1d`.\n",
        "        # Output shape: (b, embed_dim, max_len)\n",
        "        x_reshaped = x_embed.permute(0, 2, 1)\n",
        "\n",
        "        # Apply CNN and ReLU. Output shape: (b, num_filters[i], L_out)\n",
        "        x_conv_list = [F.relu(conv1d(x_reshaped)) for conv1d in self.conv1d_list]\n",
        "\n",
        "        # Max pooling. Output shape: (b, num_filters[i], 1)\n",
        "        x_pool_list = [F.max_pool1d(x_conv, kernel_size=x_conv.shape[2])\n",
        "            for x_conv in x_conv_list]\n",
        "        \n",
        "        # Concatenate x_pool_list to feed the fully connected layer.\n",
        "        # Output shape: (b, sum(num_filters))\n",
        "        x_fc = torch.cat([x_pool.squeeze(dim=2) for x_pool in x_pool_list],\n",
        "                         dim=1)\n",
        "        \n",
        "        # Compute logits. Output shape: (b, n_classes)\n",
        "        logits = self.fc(self.dropout(x_fc))\n",
        "\n",
        "        return logits"
      ],
      "metadata": {
        "id": "C_xMKva042hF"
      },
      "execution_count": null,
      "outputs": []
    },
    {
      "cell_type": "markdown",
      "source": [
        "### 3.2. Training and Testing Class\n",
        "\n",
        "1.  Initialize the model\n",
        "\n",
        "> We decided to use a model which contains only 1 convolutional layer. We also tried different kinds of optimizers. Besides Adadelta, we also tried SGD and Adam.\n",
        "\n",
        "\n",
        "2. Training epochs\n",
        "\n",
        "> For each epoch, the code below will perform a forward step to compute the Cross Entropy loss, a backward step to compute gradients and use the optimizer to update weights/parameters. The best model will be updated according to the performance of predicting validation datasets.\n",
        "\n",
        "\n",
        "3. Evaluation\n",
        "\n",
        "> Use the best models to predict the test dataset and compare the performance.\n",
        "\n",
        "\n",
        "\n"
      ],
      "metadata": {
        "id": "9dN4HzMkiCY6"
      }
    },
    {
      "cell_type": "code",
      "source": [
        "class Training():\n",
        "    def __init__(self):\n",
        "        self.cnn_model=None\n",
        "        self.loss_fn=None\n",
        "        self.optimizer=None\n",
        "        self.best_cnn_model=None\n",
        "\n",
        "    def initilize_model(self, pretrained_embedding=None,\n",
        "                    freeze_embedding=False,\n",
        "                    vocab_size=None,\n",
        "                    embed_dim=300,\n",
        "                    filter_sizes=[3, 4, 5],\n",
        "                    num_filters=[100, 100, 100],\n",
        "                    stride_sizes=[1, 1, 1],\n",
        "                    num_classes=2,\n",
        "                    dropout=0.5,\n",
        "                    optimizer=\"Adadelta\",\n",
        "                    learning_rate=0.01):\n",
        "        \"\"\"Instantiate a CNN model and an optimizer.\"\"\"\n",
        "\n",
        "        assert (len(filter_sizes) == len(num_filters)), \"filter_sizes and \\\n",
        "        num_filters need to be of the same length.\"\n",
        "\n",
        "        # Instantiate CNN model\n",
        "        self.cnn_model = CNN_NLP(pretrained_embedding=pretrained_embedding,\n",
        "                        freeze_embedding=freeze_embedding,\n",
        "                        vocab_size=vocab_size,\n",
        "                        embed_dim=embed_dim,\n",
        "                        filter_sizes=filter_sizes,\n",
        "                        num_filters=num_filters,\n",
        "                        stride_sizes=stride_sizes,\n",
        "                        num_classes=2,\n",
        "                        dropout=0.5)\n",
        "    \n",
        "        # Send model to `device` (GPU/CPU)\n",
        "        self.cnn_model.to(device)\n",
        "\n",
        "        # Instantiate Adadelta optimizer\n",
        "        optim_dict = {\"Adam\" : optim.Adam(self.cnn_model.parameters(), lr=learning_rate),\n",
        "                \"Adadelta\": optim.Adadelta(self.cnn_model.parameters(), lr=learning_rate, rho=0.95),\n",
        "                \"SGD\" : optim.SGD(self.cnn_model.parameters(), lr=learning_rate),\n",
        "                \"SGD_Momentum\" : optim.SGD(self.cnn_model.parameters(), lr=learning_rate, momentum=0.8)}\n",
        "\n",
        "        self.optimizer = optim_dict[optimizer]\n",
        "        self.loss_fn=nn.CrossEntropyLoss()\n",
        "\n",
        "    def train (self, train_dataloader, val_dataloader=None, epochs=10):\n",
        "        \"\"\"Train the CNN model.\"\"\"\n",
        "    \n",
        "        # Tracking best validation accuracy\n",
        "        best_accuracy = 0\n",
        "\n",
        "        # Start training loop\n",
        "        print(\"Start training...\\n\")\n",
        "        print(f\"{'Epoch':^7} | {'Train Loss':^12} | {'Val Loss':^10} | {'Val Acc':^9} | {'Elapsed':^9}\")\n",
        "        print(\"-\"*60)\n",
        "\n",
        "        for epoch_i in range(epochs):\n",
        "        # =======================================\n",
        "        #               Training\n",
        "        # =======================================\n",
        "\n",
        "        # Tracking time and loss\n",
        "            t0_epoch = time.time()\n",
        "            total_loss = 0\n",
        "\n",
        "            # Put the model into the training mode\n",
        "            self.cnn_model.train()\n",
        "\n",
        "            for step, batch in enumerate(train_dataloader):\n",
        "            # Load batch to GPU\n",
        "                b_input_ids, b_labels = tuple(t.to(device) for t in batch)\n",
        "\n",
        "            # Zero out any previously calculated gradients\n",
        "                self.cnn_model.zero_grad()\n",
        "\n",
        "            # Perform a forward pass. This will return logits.\n",
        "                logits = self.cnn_model(b_input_ids)\n",
        "\n",
        "            # Compute loss and accumulate the loss values\n",
        "                loss = self.loss_fn(logits, b_labels)\n",
        "                total_loss += loss.item()\n",
        "\n",
        "            # Perform a backward pass to calculate gradients\n",
        "                loss.backward()\n",
        "\n",
        "            # Update parameters\n",
        "                self.optimizer.step()\n",
        "\n",
        "        # Calculate the average loss over the entire training data\n",
        "            avg_train_loss = total_loss / len(train_dataloader)\n",
        "\n",
        "        # =======================================\n",
        "        #               Evaluation\n",
        "        # =======================================\n",
        "            if val_dataloader is not None:\n",
        "            # After the completion of each training epoch, measure the model's\n",
        "            # performance on our validation set.\n",
        "                val_loss, val_accuracy, _ = self.evaluate(val_dataloader)\n",
        "\n",
        "            # Track the best accuracy\n",
        "                if val_accuracy > best_accuracy:\n",
        "                    best_accuracy = val_accuracy\n",
        "                    self.best_cnn_model = copy.copy(self.cnn_model)\n",
        "\n",
        "            # Print performance over the entire training data\n",
        "                time_elapsed = time.time() - t0_epoch\n",
        "                if (epoch_i+1)%10==0:\n",
        "                    print(f\"{epoch_i + 1:^7} | {avg_train_loss:^12.6f} | {val_loss:^10.6f} | {val_accuracy:^9.4f} | {time_elapsed:^9.2f}\")\n",
        "            \n",
        "        print(\"\\n\")\n",
        "        print(f\"Training complete! Best accuracy: {best_accuracy:.4f}.\")\n",
        "\n",
        "    def evaluate(self, val_dataloader):\n",
        "        \"\"\"After the completion of each training epoch, measure the model's\n",
        "        performance on our validation set.\n",
        "        \"\"\"\n",
        "        # Put the model into the evaluation mode. The dropout layers are disabled\n",
        "        # during the test time.\n",
        "        self.cnn_model.eval()\n",
        "\n",
        "        # Tracking variables\n",
        "        val_loss = []\n",
        "        prob_all = []\n",
        "        label_all = []\n",
        "        # For each batch in our validation set...\n",
        "        for batch in val_dataloader:\n",
        "            # Load batch to GPU\n",
        "            b_input_ids, b_labels = tuple(t.to(device) for t in batch)\n",
        "\n",
        "            # Compute logits\n",
        "            with torch.no_grad():\n",
        "                logits = self.cnn_model(b_input_ids)\n",
        "\n",
        "            # Compute loss\n",
        "            loss = self.loss_fn(logits, b_labels)\n",
        "            val_loss.append(loss.item())\n",
        "\n",
        "            # Get the predictions\n",
        "            preds = torch.argmax(logits, dim=1).flatten()\n",
        "            preds.cpu().numpy()\n",
        "\n",
        "            prob_all.extend(preds)\n",
        "            label_all.extend(b_labels)\n",
        "\n",
        "        # Compute the average accuracy and loss over the validation set.\n",
        "        val_loss = np.mean(val_loss)\n",
        "        val_accuracy = accuracy_score(prob_all, label_all)\n",
        "        val_f1 = f1_score(prob_all, label_all)\n",
        "\n",
        "        return val_loss, val_accuracy, val_f1\n",
        "    \n",
        "    def predict_accuracy(self, test_dataloader):\n",
        "        self.best_cnn_model.eval()\n",
        "\n",
        "        test_loss = []\n",
        "        prob_all = []\n",
        "        label_all = []\n",
        "        for batch in test_dataloader:\n",
        "            b_input_ids, b_labels = tuple(t.to(device) for t in batch)\n",
        "\n",
        "            with torch.no_grad():\n",
        "                logits = self.best_cnn_model(b_input_ids)\n",
        "\n",
        "            loss = self.loss_fn(logits, b_labels)\n",
        "            test_loss.append(loss.item())\n",
        "\n",
        "            preds = torch.argmax(logits, dim=1).flatten()\n",
        "            preds.cpu().numpy()\n",
        "\n",
        "            prob_all.extend(preds)\n",
        "            label_all.extend(b_labels)\n",
        "\n",
        "        # Compute the average accuracy and loss over the validation set.\n",
        "        test_loss = np.mean(test_loss)\n",
        "        test_accuracy = accuracy_score(prob_all, label_all)\n",
        "        test_f1 = f1_score(prob_all, label_all, average='macro')\n",
        "\n",
        "        print(f\"test accuracy: {test_accuracy:.4f} and test f1 score: {test_f1:.4f}\" )\n",
        "        print(\"\\n\")\n",
        "        return test_accuracy\n",
        "        \n",
        "    def get_best_model(self):\n",
        "        return self.best_cnn_model"
      ],
      "metadata": {
        "id": "7CuTA9OuBm0q"
      },
      "execution_count": null,
      "outputs": []
    },
    {
      "cell_type": "markdown",
      "source": [
        "Here's the performance of the different combinations of hyprtparameters. For each combination there's a table to describe how it is derived."
      ],
      "metadata": {
        "id": "w60iPEmYmwJD"
      }
    },
    {
      "cell_type": "markdown",
      "source": [
        "### 3.3. Performance of different combinations of hyperparameters"
      ],
      "metadata": {
        "id": "vdo9U9t_SvQv"
      }
    },
    {
      "cell_type": "markdown",
      "source": [
        "The first and second variations of hyper-parameters.\n",
        "\n",
        "|Hyperparameters         |Values           |\n",
        "|:------------------:|:---------------:|\n",
        "|optimizer  |Adam         |\n",
        "|learning rate      |0.01              |\n",
        "|dropout rate        |0              |\n",
        "|number of filters         |1  |\n",
        "|strides         |1  |\n",
        "|filter sizes        |3        |\n",
        "|pooling             |1-max pooling    |\n",
        "|batch size        |50              |\n",
        "|number of epochs        |100              |\n",
        "<br>\n",
        "\n",
        "|Hyperparameters         |Values           |\n",
        "|:------------------:|:---------------:|\n",
        "|optimizer  |Adam         |\n",
        "|learning rate      |0.01              |\n",
        "|dropout rate        |0              |\n",
        "|number of filters         |100  |\n",
        "|strides         |1  |\n",
        "|filter sizes        |3        |\n",
        "|pooling             |1-max pooling    |\n",
        "|batch size        |50              |\n",
        "|number of epochs        |100              |"
      ],
      "metadata": {
        "id": "n24_sXJGlnQD"
      }
    },
    {
      "cell_type": "code",
      "source": [
        "training_1=Training()\n",
        "training_1.initilize_model(pretrained_embedding=embeddings_1, freeze_embedding=True, filter_sizes=[3], num_filters=[1], stride_sizes=[1], optimizer=\"Adam\", learning_rate=0.01, dropout=0)\n",
        "training_1.train(train_data_loader_1, val_data_loader_1, epochs=100)\n",
        "training_1.predict_accuracy(test_data_loader_1)\n",
        "training_2=Training()\n",
        "training_2.initilize_model(pretrained_embedding=embeddings_1, freeze_embedding=True, filter_sizes=[3], num_filters=[100], stride_sizes=[1], optimizer=\"Adam\", learning_rate=0.01, dropout=0)\n",
        "training_2.train(train_data_loader_1, val_data_loader_1, epochs=100)\n",
        "training_2.predict_accuracy(test_data_loader_1)"
      ],
      "metadata": {
        "colab": {
          "base_uri": "https://localhost:8080/"
        },
        "id": "6Qur6uQSQb0A",
        "outputId": "e86992d6-f1bd-4c79-9878-ec4ec17f3313"
      },
      "execution_count": null,
      "outputs": [
        {
          "output_type": "stream",
          "name": "stdout",
          "text": [
            "Start training...\n",
            "\n",
            " Epoch  |  Train Loss  |  Val Loss  |  Val Acc  |  Elapsed \n",
            "------------------------------------------------------------\n",
            "  10    |   0.510801   |  0.453511  |  0.7860   |   0.53   \n",
            "  20    |   0.489540   |  0.478497  |  0.7704   |   0.57   \n",
            "  30    |   0.474236   |  0.485172  |  0.7782   |   0.54   \n",
            "  40    |   0.456524   |  0.521283  |  0.7860   |   0.53   \n",
            "  50    |   0.483335   |  0.546143  |  0.7821   |   0.54   \n",
            "  60    |   0.467481   |  0.563923  |  0.7782   |   0.56   \n",
            "  70    |   0.473557   |  0.537676  |  0.7782   |   0.54   \n",
            "  80    |   0.458284   |  0.564255  |  0.7743   |   0.52   \n",
            "  90    |   0.460836   |  0.623912  |  0.7782   |   0.59   \n",
            "  100   |   0.486665   |  0.567716  |  0.7626   |   0.55   \n",
            "\n",
            "\n",
            "Training complete! Best accuracy: 0.7977.\n",
            "test accuracy: 0.6157 and test f1 score: 0.6157\n",
            "\n",
            "\n",
            "Start training...\n",
            "\n",
            " Epoch  |  Train Loss  |  Val Loss  |  Val Acc  |  Elapsed \n",
            "------------------------------------------------------------\n",
            "  10    |   0.071144   |  0.324884  |  0.8872   |   1.52   \n",
            "  20    |   0.032507   |  0.483526  |  0.8949   |   1.50   \n",
            "  30    |   0.033177   |  0.540580  |  0.8988   |   1.54   \n",
            "  40    |   0.034940   |  0.759945  |  0.9066   |   1.59   \n",
            "  50    |   0.042493   |  0.651168  |  0.8949   |   1.57   \n",
            "  60    |   0.034507   |  0.950976  |  0.8833   |   1.57   \n",
            "  70    |   0.034836   |  1.002525  |  0.8949   |   1.59   \n",
            "  80    |   0.010962   |  1.072514  |  0.8911   |   1.83   \n",
            "  90    |   0.055450   |  1.662413  |  0.9066   |   1.74   \n",
            "  100   |   0.013725   |  1.555205  |  0.8988   |   1.67   \n",
            "\n",
            "\n",
            "Training complete! Best accuracy: 0.9222.\n",
            "test accuracy: 0.8821 and test f1 score: 0.8548\n",
            "\n",
            "\n"
          ]
        },
        {
          "output_type": "execute_result",
          "data": {
            "text/plain": [
              "0.8820960698689956"
            ]
          },
          "metadata": {},
          "execution_count": 35
        }
      ]
    },
    {
      "cell_type": "markdown",
      "source": [
        "The third, fourth and fifth variations of hyper-parameters.\n",
        "<br>\n",
        "\n",
        "|Hyperparameters         |Values           |\n",
        "|:------------------:|:---------------:|\n",
        "|optimizer  |SGD with Momentum         |\n",
        "|learning rate      |0.01              |\n",
        "|dropout rate        |0              |\n",
        "|number of filters         |100  |\n",
        "|strides         |1  |\n",
        "|filter sizes        |3        |\n",
        "|pooling             |1-max pooling    |\n",
        "|batch size        |50              |\n",
        "|number of epochs        |100              |\n",
        "<br>\n",
        "\n",
        "|Hyperparameters         |Values           |\n",
        "|:------------------:|:---------------:|\n",
        "|optimizer  |SGD         |\n",
        "|learning rate      |0.01              |\n",
        "|dropout rate        |0              |\n",
        "|number of filters         |100  |\n",
        "|strides         |1  |\n",
        "|filter sizes        |3        |\n",
        "|pooling             |1-max pooling    |\n",
        "|batch size        |50              |\n",
        "|number of epochs        |100              |\n",
        "<br>\n",
        "\n",
        "|Hyperparameters         |Values           |\n",
        "|:------------------:|:---------------:|\n",
        "|optimizer  |Adadelta        |\n",
        "|learning rate      |0.01              |\n",
        "|dropout rate        |0              |\n",
        "|number of filters         |100  |\n",
        "|strides         |1  |\n",
        "|filter sizes        |3        |\n",
        "|pooling             |1-max pooling    |\n",
        "|batch size        |50              |\n",
        "|number of epochs        |100              |"
      ],
      "metadata": {
        "id": "ZtrOMcO8nJCC"
      }
    },
    {
      "cell_type": "code",
      "source": [
        "training_3=Training()\n",
        "training_3.initilize_model(pretrained_embedding=embeddings_1, freeze_embedding=True, filter_sizes=[3], num_filters=[100], stride_sizes=[1], optimizer=\"SGD_Momentum\", learning_rate=0.01, dropout=0)\n",
        "training_3.train(train_data_loader_1, val_data_loader_1, epochs=100)\n",
        "training_3.predict_accuracy(test_data_loader_1)\n",
        "training_4=Training()\n",
        "training_4.initilize_model(pretrained_embedding=embeddings_1, freeze_embedding=True, filter_sizes=[3], num_filters=[100], stride_sizes=[1], optimizer=\"SGD\", learning_rate=0.01, dropout=0)\n",
        "training_4.train(train_data_loader_1, val_data_loader_1, epochs=100)\n",
        "training_4.predict_accuracy(test_data_loader_1)\n",
        "training_5=Training()\n",
        "training_5.initilize_model(pretrained_embedding=embeddings_1, freeze_embedding=True, filter_sizes=[3], num_filters=[100], stride_sizes=[1], optimizer=\"Adadelta\", learning_rate=0.01, dropout=0)\n",
        "training_5.train(train_data_loader_1, val_data_loader_1, epochs=100)\n",
        "training_5.predict_accuracy(test_data_loader_1)"
      ],
      "metadata": {
        "id": "WKDc6WxZIVdf",
        "colab": {
          "base_uri": "https://localhost:8080/"
        },
        "outputId": "62513020-1e39-409c-b7f4-cc35ab2a4e8c"
      },
      "execution_count": null,
      "outputs": [
        {
          "output_type": "stream",
          "name": "stdout",
          "text": [
            "Start training...\n",
            "\n",
            " Epoch  |  Train Loss  |  Val Loss  |  Val Acc  |  Elapsed \n",
            "------------------------------------------------------------\n",
            "  10    |   0.217044   |  0.228026  |  0.8911   |   1.52   \n",
            "  20    |   0.112095   |  0.201087  |  0.9027   |   1.47   \n",
            "  30    |   0.064714   |  0.178123  |  0.9066   |   2.48   \n",
            "  40    |   0.042130   |  0.190649  |  0.9066   |   1.50   \n",
            "  50    |   0.027740   |  0.183583  |  0.9105   |   1.50   \n",
            "  60    |   0.023786   |  0.321535  |  0.9066   |   1.48   \n",
            "  70    |   0.016630   |  0.189908  |  0.9066   |   1.52   \n",
            "  80    |   0.016877   |  0.198176  |  0.9066   |   1.47   \n",
            "  90    |   0.013401   |  0.299020  |  0.9105   |   1.49   \n",
            "  100   |   0.010439   |  0.206971  |  0.9066   |   1.48   \n",
            "\n",
            "\n",
            "Training complete! Best accuracy: 0.9183.\n",
            "test accuracy: 0.9148 and test f1 score: 0.8904\n",
            "\n",
            "\n",
            "Start training...\n",
            "\n",
            " Epoch  |  Train Loss  |  Val Loss  |  Val Acc  |  Elapsed \n",
            "------------------------------------------------------------\n",
            "  10    |   0.560705   |  0.601592  |  0.6304   |   1.47   \n",
            "  20    |   0.397853   |  0.431926  |  0.8171   |   1.49   \n",
            "  30    |   0.295353   |  0.296241  |  0.8677   |   2.03   \n",
            "  40    |   0.240558   |  0.268262  |  0.8794   |   1.49   \n",
            "  50    |   0.207166   |  0.276671  |  0.8872   |   1.46   \n",
            "  60    |   0.172282   |  0.255416  |  0.8949   |   1.49   \n",
            "  70    |   0.150894   |  0.219378  |  0.8949   |   1.48   \n",
            "  80    |   0.133135   |  0.197052  |  0.9027   |   2.13   \n",
            "  90    |   0.125954   |  0.208561  |  0.9027   |   1.46   \n",
            "  100   |   0.106114   |  0.258716  |  0.8988   |   1.50   \n",
            "\n",
            "\n",
            "Training complete! Best accuracy: 0.9066.\n",
            "test accuracy: 0.8996 and test f1 score: 0.8729\n",
            "\n",
            "\n",
            "Start training...\n",
            "\n",
            " Epoch  |  Train Loss  |  Val Loss  |  Val Acc  |  Elapsed \n",
            "------------------------------------------------------------\n",
            "  10    |   0.588987   |  0.628321  |  0.6226   |   1.48   \n",
            "  20    |   0.537739   |  0.591176  |  0.6420   |   1.53   \n",
            "  30    |   0.461445   |  0.482874  |  0.7393   |   1.58   \n",
            "  40    |   0.402744   |  0.433526  |  0.8288   |   1.52   \n",
            "  50    |   0.345425   |  0.395408  |  0.8482   |   2.21   \n",
            "  60    |   0.304742   |  0.318168  |  0.8521   |   1.51   \n",
            "  70    |   0.280012   |  0.323621  |  0.8755   |   1.59   \n",
            "  80    |   0.250238   |  0.291250  |  0.8872   |   1.54   \n",
            "  90    |   0.239418   |  0.287937  |  0.8872   |   1.52   \n",
            "  100   |   0.218895   |  0.287798  |  0.8911   |   1.53   \n",
            "\n",
            "\n",
            "Training complete! Best accuracy: 0.8911.\n",
            "test accuracy: 0.8952 and test f1 score: 0.8621\n",
            "\n",
            "\n"
          ]
        },
        {
          "output_type": "execute_result",
          "data": {
            "text/plain": [
              "0.8951965065502183"
            ]
          },
          "metadata": {},
          "execution_count": 34
        }
      ]
    },
    {
      "cell_type": "markdown",
      "source": [
        "The sixth variation of hyper-parameters.\n",
        "\n",
        "|Hyperparameters         |Values           |\n",
        "|:------------------:|:---------------:|\n",
        "|optimizer  |SGD with Momentum        |\n",
        "|learning rate      |0.01              |\n",
        "|dropout rate        |0              |\n",
        "|number of filters         |100  |\n",
        "|strides         |3  |\n",
        "|filter sizes        |3        |\n",
        "|pooling             |1-max pooling    |\n",
        "|batch size        |50              |\n",
        "|number of epochs        |100              |"
      ],
      "metadata": {
        "id": "aAShlsEzn3M6"
      }
    },
    {
      "cell_type": "code",
      "source": [
        "training_6=Training()\n",
        "training_6.initilize_model(pretrained_embedding=embeddings_1, filter_sizes=[3], num_filters=[100], stride_sizes=[3], optimizer=\"SGD_Momentum\", freeze_embedding=True, learning_rate=0.01, dropout=0)\n",
        "training_6.train(train_data_loader_1, val_data_loader_1, epochs=100)\n",
        "training_6.predict_accuracy(test_data_loader_1)"
      ],
      "metadata": {
        "colab": {
          "base_uri": "https://localhost:8080/"
        },
        "id": "217_wxDSMk5H",
        "outputId": "d5e28ac1-81fa-4a98-dcff-8286f2a0bec1"
      },
      "execution_count": null,
      "outputs": [
        {
          "output_type": "stream",
          "name": "stdout",
          "text": [
            "Start training...\n",
            "\n",
            " Epoch  |  Train Loss  |  Val Loss  |  Val Acc  |  Elapsed \n",
            "------------------------------------------------------------\n",
            "  10    |   0.263981   |  0.284764  |  0.8638   |   0.93   \n",
            "  20    |   0.122316   |  0.269566  |  0.8755   |   0.93   \n",
            "  30    |   0.069812   |  0.259845  |  0.8716   |   0.91   \n",
            "  40    |   0.046632   |  0.230985  |  0.8833   |   0.92   \n",
            "  50    |   0.034384   |  0.325237  |  0.8872   |   0.90   \n",
            "  60    |   0.023573   |  0.276206  |  0.8794   |   0.92   \n",
            "  70    |   0.019636   |  0.265333  |  0.8794   |   0.91   \n",
            "  80    |   0.016959   |  0.276330  |  0.8755   |   0.93   \n",
            "  90    |   0.013966   |  0.315720  |  0.8677   |   0.91   \n",
            "  100   |   0.012474   |  0.276041  |  0.8716   |   1.22   \n",
            "\n",
            "\n",
            "Training complete! Best accuracy: 0.8949.\n",
            "test accuracy: 0.9007 and test f1 score: 0.8745\n",
            "\n",
            "\n"
          ]
        },
        {
          "output_type": "execute_result",
          "data": {
            "text/plain": [
              "0.9006550218340611"
            ]
          },
          "metadata": {},
          "execution_count": 36
        }
      ]
    },
    {
      "cell_type": "markdown",
      "source": [
        "The seventh variation of hyper-parameters.\n",
        "\n",
        "|Hyperparameters         |Values           |\n",
        "|:------------------:|:---------------:|\n",
        "|optimizer  |SGD with Momentum        |\n",
        "|learning rate      |0.01              |\n",
        "|dropout rate        |0              |\n",
        "|number of filters         |100  |\n",
        "|strides         |1  |\n",
        "|filter sizes        |7        |\n",
        "|pooling             |1-max pooling    |\n",
        "|batch size        |50              |\n",
        "|number of epochs        |100              |"
      ],
      "metadata": {
        "id": "jZFz9vu-n9EB"
      }
    },
    {
      "cell_type": "code",
      "source": [
        "training_7=Training()\n",
        "training_7.initilize_model(pretrained_embedding=embeddings_1, filter_sizes=[7], num_filters=[100], stride_sizes=[1], optimizer=\"SGD_Momentum\", freeze_embedding=True, learning_rate=0.01, dropout=0)\n",
        "training_7.train(train_data_loader_1, val_data_loader_1, epochs=100)\n",
        "training_7.predict_accuracy(test_data_loader_1)"
      ],
      "metadata": {
        "id": "6-ARsQlmbnkH",
        "colab": {
          "base_uri": "https://localhost:8080/"
        },
        "outputId": "46f33b0a-5d90-4400-c0f9-8e7713b872c8"
      },
      "execution_count": null,
      "outputs": [
        {
          "output_type": "stream",
          "name": "stdout",
          "text": [
            "Start training...\n",
            "\n",
            " Epoch  |  Train Loss  |  Val Loss  |  Val Acc  |  Elapsed \n",
            "------------------------------------------------------------\n",
            "  10    |   0.161837   |  0.290545  |  0.8677   |   2.47   \n",
            "  20    |   0.057989   |  0.290964  |  0.8949   |   3.07   \n",
            "  30    |   0.028067   |  0.205796  |  0.9027   |   3.33   \n",
            "  40    |   0.018525   |  0.330657  |  0.8911   |   2.99   \n",
            "  50    |   0.013823   |  0.224414  |  0.9027   |   2.49   \n",
            "  60    |   0.010446   |  0.215805  |  0.9027   |   2.47   \n",
            "  70    |   0.008988   |  0.244130  |  0.8988   |   2.43   \n",
            "  80    |   0.006654   |  0.220599  |  0.9066   |   3.36   \n",
            "  90    |   0.005145   |  0.236821  |  0.9066   |   2.43   \n",
            "  100   |   0.005987   |  0.241725  |  0.9066   |   2.45   \n",
            "\n",
            "\n",
            "Training complete! Best accuracy: 0.9144.\n",
            "test accuracy: 0.8985 and test f1 score: 0.8696\n",
            "\n",
            "\n"
          ]
        },
        {
          "output_type": "execute_result",
          "data": {
            "text/plain": [
              "0.898471615720524"
            ]
          },
          "metadata": {},
          "execution_count": 37
        }
      ]
    },
    {
      "cell_type": "markdown",
      "source": [
        "The eighth and final variation of hyper-parameters.\n",
        "\n",
        "|Hyperparameters         |Values           |\n",
        "|:------------------:|:---------------:|\n",
        "|optimizer  |SGD with Momentum         |\n",
        "|learning rate      |0.01              |\n",
        "|dropout rate        |0.2              |\n",
        "|number of filters         |100  |\n",
        "|strides         |1  |\n",
        "|filter sizes        |3        |\n",
        "|pooling             |1-max pooling    |\n",
        "|batch size        |50              |\n",
        "|number of epochs        |100              |"
      ],
      "metadata": {
        "id": "0ekj4zeroJ0a"
      }
    },
    {
      "cell_type": "code",
      "source": [
        "training_8=Training()\n",
        "training_8.initilize_model(pretrained_embedding=embeddings_1, filter_sizes=[3], num_filters=[100], stride_sizes=[1], optimizer=\"SGD_Momentum\", freeze_embedding=True, learning_rate=0.01, dropout=0.2)\n",
        "training_8.train(train_data_loader_1, val_data_loader_1, epochs=100)\n",
        "training_8.predict_accuracy(test_data_loader_1)"
      ],
      "metadata": {
        "id": "Q-POZtz3cR8s",
        "colab": {
          "base_uri": "https://localhost:8080/"
        },
        "outputId": "c28c45ad-5d46-426e-a2ec-d58665e96fb3"
      },
      "execution_count": null,
      "outputs": [
        {
          "output_type": "stream",
          "name": "stdout",
          "text": [
            "Start training...\n",
            "\n",
            " Epoch  |  Train Loss  |  Val Loss  |  Val Acc  |  Elapsed \n",
            "------------------------------------------------------------\n",
            "  10    |   0.225622   |  0.236081  |  0.9027   |   2.14   \n",
            "  20    |   0.110173   |  0.237622  |  0.9066   |   1.49   \n",
            "  30    |   0.065563   |  0.222239  |  0.9027   |   1.50   \n",
            "  40    |   0.045893   |  0.242006  |  0.9027   |   1.52   \n",
            "  50    |   0.035183   |  0.189779  |  0.8949   |   1.50   \n",
            "  60    |   0.020420   |  0.320396  |  0.9027   |   1.47   \n",
            "  70    |   0.020440   |  0.350254  |  0.8949   |   1.48   \n",
            "  80    |   0.016241   |  0.205847  |  0.9027   |   1.53   \n",
            "  90    |   0.015839   |  0.283696  |  0.8988   |   1.53   \n",
            "  100   |   0.014711   |  0.265655  |  0.9027   |   1.51   \n",
            "\n",
            "\n",
            "Training complete! Best accuracy: 0.9105.\n",
            "test accuracy: 0.9083 and test f1 score: 0.8827\n",
            "\n",
            "\n"
          ]
        },
        {
          "output_type": "execute_result",
          "data": {
            "text/plain": [
              "0.9082969432314411"
            ]
          },
          "metadata": {},
          "execution_count": 38
        }
      ]
    },
    {
      "cell_type": "markdown",
      "source": [
        "Use the best combination (variation number 3) to work on the second dataset:"
      ],
      "metadata": {
        "id": "P8lW1K_OoVGx"
      }
    },
    {
      "cell_type": "code",
      "source": [
        "training_9=Training()\n",
        "training_9.initilize_model(pretrained_embedding=embeddings_1, freeze_embedding=True, filter_sizes=[3], num_filters=[100], stride_sizes=[1], optimizer=\"SGD_Momentum\", learning_rate=0.01, dropout=0)\n",
        "training_9.train(train_data_loader_2, val_data_loader_2, epochs=100)\n",
        "training_9.predict_accuracy(test_data_loader_2)"
      ],
      "metadata": {
        "colab": {
          "base_uri": "https://localhost:8080/"
        },
        "id": "IOtxG7_ORXOn",
        "outputId": "737c41b5-45b1-4419-d316-5c7495052ec7"
      },
      "execution_count": null,
      "outputs": [
        {
          "output_type": "stream",
          "name": "stdout",
          "text": [
            "Start training...\n",
            "\n",
            " Epoch  |  Train Loss  |  Val Loss  |  Val Acc  |  Elapsed \n",
            "------------------------------------------------------------\n",
            "  10    |   0.401124   |  0.397634  |  0.8511   |   1.76   \n",
            "  20    |   0.262505   |  0.374344  |  0.8457   |   1.79   \n",
            "  30    |   0.144861   |  0.366655  |  0.8564   |   1.72   \n",
            "  40    |   0.081940   |  0.381896  |  0.8564   |   1.73   \n",
            "  50    |   0.049589   |  0.389657  |  0.8617   |   1.78   \n",
            "  60    |   0.041792   |  0.407975  |  0.8617   |   1.76   \n",
            "  70    |   0.028881   |  0.434633  |  0.8617   |   1.75   \n",
            "  80    |   0.027297   |  0.399348  |  0.8670   |   1.75   \n",
            "  90    |   0.019540   |  0.447802  |  0.8670   |   1.74   \n",
            "  100   |   0.018514   |  0.420162  |  0.8670   |   1.77   \n",
            "\n",
            "\n",
            "Training complete! Best accuracy: 0.8670.\n",
            "test accuracy: 0.8443 and test f1 score: 0.2933\n",
            "\n",
            "\n"
          ]
        },
        {
          "output_type": "execute_result",
          "data": {
            "text/plain": [
              "0.8443465491923642"
            ]
          },
          "metadata": {},
          "execution_count": 39
        }
      ]
    }
  ]
}